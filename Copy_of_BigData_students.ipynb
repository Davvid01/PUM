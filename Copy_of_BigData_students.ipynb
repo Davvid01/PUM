{
  "cells": [
    {
      "cell_type": "markdown",
      "metadata": {
        "id": "view-in-github",
        "colab_type": "text"
      },
      "source": [
        "<a href=\"https://colab.research.google.com/github/Davvid01/PUM/blob/main/Copy_of_BigData_students.ipynb\" target=\"_parent\"><img src=\"https://colab.research.google.com/assets/colab-badge.svg\" alt=\"Open In Colab\"/></a>"
      ]
    },
    {
      "cell_type": "markdown",
      "metadata": {
        "id": "7x5P9dAoSFpP"
      },
      "source": [
        "# Big Data\n",
        "\n",
        "### Prowadzący, modyfikacje i aktualizacja: dr Marcin Szmydt\n",
        "\n",
        "Opracowanie pierwotne: mgr inż. Dominik Filipiak\n",
        "Notebook do zdalnej pracy ze Sparkiem."
      ]
    },
    {
      "cell_type": "markdown",
      "metadata": {
        "id": "j8kb9zJ-S3vq"
      },
      "source": [
        "### Przygotowanie sparka do pracy z colabem\n",
        "\n",
        "Przed przystąpieniem do pracy musimy uruchomić poniższe komórki.\n",
        "W razie kłopotów sprawdźcie czy nie zmieniła się wersja tutaj: http://www.apache.org/dist/spark/. W razie czego trzeba pozmieniać numerki wszędzie (np. 3.4.1 na 3.5.1)."
      ]
    },
    {
      "cell_type": "markdown",
      "metadata": {
        "id": "voo4f_tVS_Gf"
      },
      "source": [
        "Tu ściągamy Javę oraz Sparka razem z Hadoopem, a także instalujemy pakiet findspark w pythonie. Pewnie już się domyślacie, że przez wykrzyknik można wywołać linuksowe polecenia w Colabie.\n",
        "\n"
      ]
    },
    {
      "cell_type": "code",
      "execution_count": null,
      "metadata": {
        "id": "QCDxQmckSdjt"
      },
      "outputs": [],
      "source": [
        "!apt-get install openjdk-8-jdk-headless -qq > /dev/null\n",
        "!wget -q http://www.apache.org/dist/spark/spark-3.5.1/spark-3.5.1-bin-hadoop3.tgz\n",
        "!tar xf spark-3.5.1-bin-hadoop3.tgz\n",
        "!pip install -q findspark==1.3.0"
      ]
    },
    {
      "cell_type": "markdown",
      "metadata": {
        "id": "HYD8k9vQTK_g"
      },
      "source": [
        "Instalujemy pyspark w Pythonie"
      ]
    },
    {
      "cell_type": "code",
      "execution_count": null,
      "metadata": {
        "id": "RM8cD2ieTLW8",
        "colab": {
          "base_uri": "https://localhost:8080/"
        },
        "outputId": "0e621581-3791-405d-a8ea-0792e8ff7902"
      },
      "outputs": [
        {
          "output_type": "stream",
          "name": "stdout",
          "text": [
            "\u001b[2K     \u001b[90m━━━━━━━━━━━━━━━━━━━━━━━━━━━━━━━━━━━━━━━━\u001b[0m \u001b[32m317.0/317.0 MB\u001b[0m \u001b[31m3.9 MB/s\u001b[0m eta \u001b[36m0:00:00\u001b[0m\n",
            "\u001b[?25h  Preparing metadata (setup.py) ... \u001b[?25l\u001b[?25hdone\n",
            "  Building wheel for pyspark (setup.py) ... \u001b[?25l\u001b[?25hdone\n"
          ]
        }
      ],
      "source": [
        "!pip install -q pyspark==3.5.1"
      ]
    },
    {
      "cell_type": "markdown",
      "metadata": {
        "id": "szctXV_6TTsb"
      },
      "source": [
        "Tu ustalamy zmienne środowiskowe."
      ]
    },
    {
      "cell_type": "code",
      "execution_count": null,
      "metadata": {
        "id": "npdmo_U-TT-v"
      },
      "outputs": [],
      "source": [
        "import os\n",
        "os.environ[\"JAVA_HOME\"] = \"/usr/lib/jvm/java-8-openjdk-amd64\"\n",
        "os.environ[\"SPARK_HOME\"] = \"/content/spark-3.5.1-bin-hadoop3\""
      ]
    },
    {
      "cell_type": "markdown",
      "metadata": {
        "id": "RL047t4xTxdf"
      },
      "source": [
        "Jesteśmy gotowi do odpalenia Sparka - tworzymy sesję i kontekst."
      ]
    },
    {
      "cell_type": "code",
      "execution_count": null,
      "metadata": {
        "id": "l8MeA3KpTxwY"
      },
      "outputs": [],
      "source": [
        "import findspark\n",
        "import pyspark\n",
        "from pyspark.sql import SparkSession\n",
        "from pyspark import SparkContext\n",
        "\n",
        "findspark.init(\"spark-3.5.1-bin-hadoop3\")\n",
        "sc = pyspark.SparkContext('local[*]')\n",
        "spark = SparkSession.builder.appName('abc').getOrCreate()"
      ]
    },
    {
      "cell_type": "code",
      "execution_count": null,
      "metadata": {
        "id": "iPdb4uIcUA1a",
        "colab": {
          "base_uri": "https://localhost:8080/"
        },
        "outputId": "34b88d54-5787-4978-b3e0-8be050c2e428"
      },
      "outputs": [
        {
          "output_type": "stream",
          "name": "stdout",
          "text": [
            "               total        used        free      shared  buff/cache   available\n",
            "Mem:            12Gi       1.0Gi       1.7Gi       1.0Mi         9Gi        11Gi\n",
            "Swap:             0B          0B          0B\n"
          ]
        }
      ],
      "source": [
        "!free -mh # Komenda na sprawdzenie dostępnej pamięci RAM"
      ]
    },
    {
      "cell_type": "markdown",
      "metadata": {
        "id": "CQCXxzEwUG8s"
      },
      "source": [
        "# Możemy przystąpić do pracy!"
      ]
    },
    {
      "cell_type": "code",
      "execution_count": null,
      "metadata": {
        "id": "QI9ZgD9OUHib",
        "colab": {
          "base_uri": "https://localhost:8080/"
        },
        "outputId": "33275e57-d5be-42d0-a628-7739ebda4846"
      },
      "outputs": [
        {
          "output_type": "execute_result",
          "data": {
            "text/plain": [
              "[2, 3, 4]"
            ]
          },
          "metadata": {},
          "execution_count": 7
        }
      ],
      "source": [
        "sc.parallelize([1,2,3]).map(lambda x: x + 1).collect()"
      ]
    },
    {
      "cell_type": "markdown",
      "metadata": {
        "id": "WxVUvE9pUUW-"
      },
      "source": [
        "# Zajęcia 25.03.2024"
      ]
    },
    {
      "cell_type": "code",
      "execution_count": null,
      "metadata": {
        "id": "80gA-9PTiCUK"
      },
      "outputs": [],
      "source": [
        "sc"
      ]
    },
    {
      "cell_type": "markdown",
      "source": [
        "###Przechodzenie między środowiskiem lokalnym (Python) a środowiskiem rozproszonym (Spark)"
      ],
      "metadata": {
        "id": "3eFby4E_Mgtz"
      }
    },
    {
      "cell_type": "code",
      "source": [
        "lista = [1, 2, 3]"
      ],
      "metadata": {
        "id": "BSZr0RupJhd4"
      },
      "execution_count": null,
      "outputs": []
    },
    {
      "cell_type": "code",
      "source": [
        "type(lista)"
      ],
      "metadata": {
        "id": "8ZdztFl9MXh5"
      },
      "execution_count": null,
      "outputs": []
    },
    {
      "cell_type": "code",
      "source": [
        "distributed_list = sc.parallelize(lista)"
      ],
      "metadata": {
        "id": "EjSwnSIvLB_k"
      },
      "execution_count": null,
      "outputs": []
    },
    {
      "cell_type": "code",
      "source": [
        "type(distributed_list)"
      ],
      "metadata": {
        "id": "6RR-o7dxLCo6"
      },
      "execution_count": null,
      "outputs": []
    },
    {
      "cell_type": "code",
      "source": [
        "distributed_list.take(10)"
      ],
      "metadata": {
        "id": "_iJFHyqKMs4-"
      },
      "execution_count": null,
      "outputs": []
    },
    {
      "cell_type": "code",
      "source": [
        "listapython = distributed_list.map(lambda x: x + 1).collect()"
      ],
      "metadata": {
        "id": "waOAUUKbLD9h"
      },
      "execution_count": null,
      "outputs": []
    },
    {
      "cell_type": "code",
      "source": [
        "listapython"
      ],
      "metadata": {
        "id": "jJ8tRQzGLhzv"
      },
      "execution_count": null,
      "outputs": []
    },
    {
      "cell_type": "code",
      "source": [
        "type(listapython)"
      ],
      "metadata": {
        "id": "LGiKV6RCMr-x"
      },
      "execution_count": null,
      "outputs": []
    },
    {
      "cell_type": "markdown",
      "source": [
        "###RDD -Wczytywanie plików, podstawowe operacje (take, map, filter)"
      ],
      "metadata": {
        "id": "xLTHRN96NM2N"
      }
    },
    {
      "cell_type": "code",
      "source": [
        "!head -5 baby.csv"
      ],
      "metadata": {
        "id": "RbAJCphEM27C"
      },
      "execution_count": null,
      "outputs": []
    },
    {
      "cell_type": "code",
      "source": [
        "baby_names = sc.textFile('baby.csv')"
      ],
      "metadata": {
        "id": "Fs56v7FRPZzC"
      },
      "execution_count": null,
      "outputs": []
    },
    {
      "cell_type": "code",
      "source": [
        "baby_names.take(10)"
      ],
      "metadata": {
        "id": "MCtV0f5xPfLC"
      },
      "execution_count": null,
      "outputs": []
    },
    {
      "cell_type": "code",
      "source": [
        "rows = baby_names.map(lambda x: x.split(','))"
      ],
      "metadata": {
        "id": "zCnM_KWLPhVk"
      },
      "execution_count": null,
      "outputs": []
    },
    {
      "cell_type": "code",
      "source": [
        "rows.take(3)"
      ],
      "metadata": {
        "id": "vfDfJOJZPo6z"
      },
      "execution_count": null,
      "outputs": []
    },
    {
      "cell_type": "code",
      "source": [
        "rows.filter(lambda x: 'Year' not in x).take(5)"
      ],
      "metadata": {
        "id": "5oxYETl2RiWZ"
      },
      "execution_count": null,
      "outputs": []
    },
    {
      "cell_type": "markdown",
      "source": [
        "###Zadanie 1 - Jak odfiltrować z RDD imiona które które mają mniej niż 250 wystąpień (count)"
      ],
      "metadata": {
        "id": "qDZvixFmR5Zi"
      }
    },
    {
      "cell_type": "code",
      "source": [
        "#kod"
      ],
      "metadata": {
        "id": "kzrjfyetSV78"
      },
      "execution_count": null,
      "outputs": []
    },
    {
      "cell_type": "markdown",
      "source": [
        "###Cache (i wpływ na czas przetarzania)"
      ],
      "metadata": {
        "id": "but39hi4UZaR"
      }
    },
    {
      "cell_type": "code",
      "source": [
        "nums = sc.parallelize(range(1, 1000001))"
      ],
      "metadata": {
        "id": "YxXxbTyfUar7"
      },
      "execution_count": null,
      "outputs": []
    },
    {
      "cell_type": "code",
      "source": [
        "nums.count()"
      ],
      "metadata": {
        "id": "7IxuAIJCUk39"
      },
      "execution_count": null,
      "outputs": []
    },
    {
      "cell_type": "code",
      "source": [
        "def isPrime(n) :\n",
        "\n",
        "    # Corner cases\n",
        "    if (n <= 1) :\n",
        "        return False\n",
        "    if (n <= 3) :\n",
        "        return True\n",
        "\n",
        "    # This is checked so that we can skip\n",
        "    # middle five numbers in below loop\n",
        "    if (n % 2 == 0 or n % 3 == 0) :\n",
        "        return False\n",
        "\n",
        "    i = 5\n",
        "    while(i * i <= n) :\n",
        "        if (n % i == 0 or n % (i + 2) == 0) :\n",
        "            return False\n",
        "        i = i + 6\n",
        "\n",
        "    return True"
      ],
      "metadata": {
        "id": "tY8IyBlXUqON"
      },
      "execution_count": null,
      "outputs": []
    },
    {
      "cell_type": "code",
      "source": [
        "isPrime(11)"
      ],
      "metadata": {
        "id": "Hro7LCEcUyEU"
      },
      "execution_count": null,
      "outputs": []
    },
    {
      "cell_type": "code",
      "source": [
        "primes = nums.filter(isPrime)"
      ],
      "metadata": {
        "id": "VWKbbyfWU4IB"
      },
      "execution_count": null,
      "outputs": []
    },
    {
      "cell_type": "code",
      "source": [
        "primes.count()"
      ],
      "metadata": {
        "id": "OxOIOpEgU8Q7"
      },
      "execution_count": null,
      "outputs": []
    },
    {
      "cell_type": "code",
      "source": [
        "import time"
      ],
      "metadata": {
        "id": "GlCqcniOVApP"
      },
      "execution_count": null,
      "outputs": []
    },
    {
      "cell_type": "code",
      "source": [
        "start = time.time()\n",
        "print(f'Jest {primes.count()} liczb pierwszych w milionie')\n",
        "end = time.time()\n",
        "print(f'Upłynęło {end-start} sekund')"
      ],
      "metadata": {
        "id": "Av1Tab3PVFjY"
      },
      "execution_count": null,
      "outputs": []
    },
    {
      "cell_type": "code",
      "source": [
        "primes.cache()"
      ],
      "metadata": {
        "id": "mWwzS95IVL_7"
      },
      "execution_count": null,
      "outputs": []
    },
    {
      "cell_type": "code",
      "source": [
        "start = time.time()\n",
        "print(f'Jest {primes.count()} liczb pierwszych w milionie')\n",
        "end = time.time()\n",
        "print(f'Upłynęło {end-start} sekund')"
      ],
      "metadata": {
        "id": "ko1qlUY8VPBE"
      },
      "execution_count": null,
      "outputs": []
    },
    {
      "cell_type": "code",
      "source": [
        "start = time.time()\n",
        "print(f'Jest {primes.count()} liczb pierwszych w milionie')\n",
        "end = time.time()\n",
        "print(f'Upłynęło {end-start} sekund')"
      ],
      "metadata": {
        "id": "Qs9PzewYVR3P"
      },
      "execution_count": null,
      "outputs": []
    },
    {
      "cell_type": "code",
      "source": [
        "start = time.time()\n",
        "print(f'Jest {primes.count()} liczb pierwszych w milionie')\n",
        "end = time.time()\n",
        "print(f'Upłynęło {end-start} sekund')"
      ],
      "metadata": {
        "id": "SPrPfsG1VU2P"
      },
      "execution_count": null,
      "outputs": []
    },
    {
      "cell_type": "code",
      "source": [
        "primes.unpersist()"
      ],
      "metadata": {
        "id": "LpY3_AOMVYfw"
      },
      "execution_count": null,
      "outputs": []
    },
    {
      "cell_type": "code",
      "source": [
        "start = time.time()\n",
        "print(f'Jest {primes.count()} liczb pierwszych w milionie')\n",
        "end = time.time()\n",
        "print(f'Upłynęło {end-start} sekund')"
      ],
      "metadata": {
        "id": "xiivxisaVbdm"
      },
      "execution_count": null,
      "outputs": []
    },
    {
      "cell_type": "markdown",
      "source": [
        "###Sampling"
      ],
      "metadata": {
        "id": "cDcAYQCeW4Hw"
      }
    },
    {
      "cell_type": "code",
      "source": [
        "one_to_ten = range(1,11)\n",
        "parallel = sc.parallelize(one_to_ten)"
      ],
      "metadata": {
        "id": "eZibao4jW7q5"
      },
      "execution_count": null,
      "outputs": []
    },
    {
      "cell_type": "code",
      "source": [
        "parallel.take(100)"
      ],
      "metadata": {
        "id": "84CCkG0WW5au"
      },
      "execution_count": null,
      "outputs": []
    },
    {
      "cell_type": "code",
      "source": [
        "parallel.sample(True, .2).take(5)"
      ],
      "metadata": {
        "id": "lam9E0lZW6qM"
      },
      "execution_count": null,
      "outputs": []
    },
    {
      "cell_type": "code",
      "source": [
        "parallel.takeSample(True, 2)"
      ],
      "metadata": {
        "id": "wl1W_ya9mlys"
      },
      "execution_count": null,
      "outputs": []
    },
    {
      "cell_type": "code",
      "source": [
        "parallel_big = sc.parallelize(range(1,100001))"
      ],
      "metadata": {
        "id": "_g0Rzs49W-er"
      },
      "execution_count": null,
      "outputs": []
    },
    {
      "cell_type": "code",
      "source": [
        "parallel_big.sample(True, .2).count()"
      ],
      "metadata": {
        "id": "HkGoevDLXlaD"
      },
      "execution_count": null,
      "outputs": []
    },
    {
      "cell_type": "code",
      "source": [
        "parallel_big.sample(True, .2, 5345).take(5)"
      ],
      "metadata": {
        "id": "VkB-2KTuXmv2"
      },
      "execution_count": null,
      "outputs": []
    },
    {
      "cell_type": "markdown",
      "source": [
        "###Intersection, Union, Joins"
      ],
      "metadata": {
        "id": "lhxK6dPpgPH-"
      }
    },
    {
      "cell_type": "code",
      "source": [
        "one = sc.parallelize(range(1,10))\n",
        "two = sc.parallelize(range(5,15))"
      ],
      "metadata": {
        "id": "WYRgVA33gPjv"
      },
      "execution_count": null,
      "outputs": []
    },
    {
      "cell_type": "code",
      "source": [
        "one.collect()"
      ],
      "metadata": {
        "id": "3Gd_aQABgt7d"
      },
      "execution_count": null,
      "outputs": []
    },
    {
      "cell_type": "code",
      "source": [
        "two.collect()"
      ],
      "metadata": {
        "id": "9exnVWQkgvQG"
      },
      "execution_count": null,
      "outputs": []
    },
    {
      "cell_type": "code",
      "source": [
        "one.intersection(two).collect()"
      ],
      "metadata": {
        "id": "fnLXe3zigT-h"
      },
      "execution_count": null,
      "outputs": []
    },
    {
      "cell_type": "code",
      "source": [
        "one.union(two).collect()"
      ],
      "metadata": {
        "id": "GAWjg059gqGv"
      },
      "execution_count": null,
      "outputs": []
    },
    {
      "cell_type": "code",
      "source": [
        "one.union(two).distinct().collect()"
      ],
      "metadata": {
        "id": "gtszt0ZVgx2E"
      },
      "execution_count": null,
      "outputs": []
    },
    {
      "cell_type": "code",
      "source": [
        "names1 = sc.parallelize(('abe', 'abby', 'apple')).map(lambda x: (x, 1))\n",
        "names2 = sc.parallelize(('apple', 'beatty', 'beatrice')).map(lambda x: (x, 5))\n",
        "print(f'names1: {names1.collect()}')\n",
        "print(f'names2: {names2.collect()}')"
      ],
      "metadata": {
        "id": "XWpWJ96dg6wn"
      },
      "execution_count": null,
      "outputs": []
    },
    {
      "cell_type": "code",
      "source": [
        "names1.join(names2).collect()"
      ],
      "metadata": {
        "id": "pr8tUgGehBbO"
      },
      "execution_count": null,
      "outputs": []
    },
    {
      "cell_type": "code",
      "source": [
        "names1.leftOuterJoin(names2).collect()"
      ],
      "metadata": {
        "id": "mNlNAJRbhYBC"
      },
      "execution_count": null,
      "outputs": []
    },
    {
      "cell_type": "code",
      "source": [
        "names1.rightOuterJoin(names2).collect()"
      ],
      "metadata": {
        "id": "q2LhVi5LhZaJ"
      },
      "execution_count": null,
      "outputs": []
    },
    {
      "cell_type": "code",
      "source": [
        "names1.cartesian(names2).collect()"
      ],
      "metadata": {
        "id": "5hPv2I6Hhbcg"
      },
      "execution_count": null,
      "outputs": []
    },
    {
      "cell_type": "markdown",
      "source": [
        "###Zapis do jednego pliku (użycie coalesce)"
      ],
      "metadata": {
        "id": "UR-tc7e4hv1z"
      }
    },
    {
      "cell_type": "code",
      "source": [
        "wynik = names1.cartesian(names2)"
      ],
      "metadata": {
        "id": "uflCBhCKhxDf"
      },
      "execution_count": null,
      "outputs": []
    },
    {
      "cell_type": "code",
      "source": [
        "type(wynik)"
      ],
      "metadata": {
        "id": "quQhlyKLiRiO"
      },
      "execution_count": null,
      "outputs": []
    },
    {
      "cell_type": "code",
      "source": [
        "wynik.saveAsTextFile('wynik.txt')"
      ],
      "metadata": {
        "id": "uW29x06GiSr0"
      },
      "execution_count": null,
      "outputs": []
    },
    {
      "cell_type": "code",
      "source": [
        "!cat wynik.txt/part-00000"
      ],
      "metadata": {
        "id": "j_j0ZUaFiX_Q"
      },
      "execution_count": null,
      "outputs": []
    },
    {
      "cell_type": "code",
      "source": [
        "wynik.coalesce(1).saveAsTextFile('wynik_one_partition.txt')"
      ],
      "metadata": {
        "id": "1tWRo2tZii7N"
      },
      "execution_count": null,
      "outputs": []
    },
    {
      "cell_type": "code",
      "source": [
        "!cat wynik_one_partition.txt/part-00000"
      ],
      "metadata": {
        "id": "cnozON85irqS"
      },
      "execution_count": null,
      "outputs": []
    },
    {
      "cell_type": "markdown",
      "source": [
        "###Zadanie 2\n",
        "1. Stwórz zmienną w rozproszonym środowisku Sparka (RDD), która zawiera liczby od jeden do miliona\n",
        "2. Usuń z tej zmiennej liczby, które mają resztę z dzielenia przez 5 mniejszą niż 2\n",
        "3. Wylosuj 1% rekordów z uzyskanego RDD bez zwracania z ziarnem losowości 12345\n",
        "4. Zapisz na lokalnym systemie plików do jednego pliku tekstowego\n",
        "5. Odczytaj pierwsze 3 liczby z zapisanego pliku"
      ],
      "metadata": {
        "id": "-AyBZ3_0j2e-"
      }
    },
    {
      "cell_type": "code",
      "source": [
        "#kod"
      ],
      "metadata": {
        "id": "qCf3wajA17xB"
      },
      "execution_count": null,
      "outputs": []
    },
    {
      "cell_type": "markdown",
      "source": [
        "###groupByKey"
      ],
      "metadata": {
        "id": "vFEB6z1zqt6V"
      }
    },
    {
      "cell_type": "code",
      "source": [
        "!head -5 baby.csv"
      ],
      "metadata": {
        "id": "tP6HlQnIrAsK"
      },
      "execution_count": null,
      "outputs": []
    },
    {
      "cell_type": "code",
      "source": [
        "baby_names = sc.textFile('baby.csv')"
      ],
      "metadata": {
        "id": "tpmMZ-P6rCUg"
      },
      "execution_count": null,
      "outputs": []
    },
    {
      "cell_type": "code",
      "source": [
        "baby_names_no_header = baby_names.filter(lambda x: x!='Year,First Name,County,Sex,Count')"
      ],
      "metadata": {
        "id": "HitD8EsHrhJe"
      },
      "execution_count": null,
      "outputs": []
    },
    {
      "cell_type": "code",
      "source": [
        "baby_names_no_header.take(10)"
      ],
      "metadata": {
        "id": "ICpX7K-Kr6y_"
      },
      "execution_count": null,
      "outputs": []
    },
    {
      "cell_type": "code",
      "source": [
        "rows = baby_names_no_header.map(lambda x: x.split(','))"
      ],
      "metadata": {
        "id": "BntNmKDfrDlH"
      },
      "execution_count": null,
      "outputs": []
    },
    {
      "cell_type": "code",
      "source": [
        "rows.take(10)"
      ],
      "metadata": {
        "id": "XGo0iPO6rGvp"
      },
      "execution_count": null,
      "outputs": []
    },
    {
      "cell_type": "code",
      "source": [
        "#W jakich hrabstwach występuje dane imię"
      ],
      "metadata": {
        "id": "Dw6itfSIqvHN"
      },
      "execution_count": null,
      "outputs": []
    },
    {
      "cell_type": "code",
      "source": [
        "(rows\n",
        " .map(lambda x: (x[1], x[2]))\n",
        " .groupByKey()\n",
        " .map(lambda x: {x[0]: list(x[1])})\n",
        " ).collect()"
      ],
      "metadata": {
        "id": "jwzyVi_NqxTo"
      },
      "execution_count": null,
      "outputs": []
    },
    {
      "cell_type": "markdown",
      "source": [
        "###reduceByKey"
      ],
      "metadata": {
        "id": "v3XYYc2itaTy"
      }
    },
    {
      "cell_type": "code",
      "source": [
        "rows.take(20)"
      ],
      "metadata": {
        "id": "0UVt41PVtavp"
      },
      "execution_count": null,
      "outputs": []
    },
    {
      "cell_type": "code",
      "source": [
        "#Ile razy dane imię wystąpiło we wszystkich hrabstwach"
      ],
      "metadata": {
        "id": "kYJCcQqhtdNa"
      },
      "execution_count": null,
      "outputs": []
    },
    {
      "cell_type": "code",
      "source": [
        "?rows.reduceByKey()"
      ],
      "metadata": {
        "id": "4sxR4WvutfCJ"
      },
      "execution_count": null,
      "outputs": []
    },
    {
      "cell_type": "code",
      "source": [
        "(rows\n",
        " .map(lambda x: (x[1],int(x[4])))\n",
        " .reduceByKey(lambda x,y: x+y)\n",
        ").collect()"
      ],
      "metadata": {
        "id": "ZMOLjVhLtn7S"
      },
      "execution_count": null,
      "outputs": []
    },
    {
      "cell_type": "markdown",
      "source": [
        "###Reduce + flatMap"
      ],
      "metadata": {
        "id": "JP4XlFcSuw3w"
      }
    },
    {
      "cell_type": "code",
      "source": [
        "x1 = sc.parallelize(['kot','pies','zajac', 'niedzwiedz'])\n",
        "x2 = sc.parallelize(['wilk','pies','dzik', 'bocian'])"
      ],
      "metadata": {
        "id": "028zT-mpuxqY"
      },
      "execution_count": null,
      "outputs": []
    },
    {
      "cell_type": "code",
      "source": [
        "x1.reduce(lambda x,y: x + '_' + y)"
      ],
      "metadata": {
        "id": "rfIAZpWeuzip"
      },
      "execution_count": null,
      "outputs": []
    },
    {
      "cell_type": "code",
      "source": [
        "#łączna liczba znaków we wszystkich wyrazach w x1"
      ],
      "metadata": {
        "id": "ksh9VBhJvIqd"
      },
      "execution_count": null,
      "outputs": []
    },
    {
      "cell_type": "code",
      "source": [
        "(x1\n",
        " .map(lambda x: [x, len(x)])\n",
        " .flatMap(lambda x: [x[1]])\n",
        ").reduce(lambda x, y: x + y)"
      ],
      "metadata": {
        "id": "2s815dB7vSsD"
      },
      "execution_count": null,
      "outputs": []
    },
    {
      "cell_type": "markdown",
      "source": [
        "# Zajęcia 12.04.2023"
      ],
      "metadata": {
        "id": "CTJTh6LpYt1w"
      }
    },
    {
      "cell_type": "markdown",
      "source": [
        "###CountByKey"
      ],
      "metadata": {
        "id": "CsjCr0oEvikd"
      }
    },
    {
      "cell_type": "code",
      "source": [
        "x12 = x1.union(x2)\n",
        "x12.take(10)"
      ],
      "metadata": {
        "id": "bKy5LYKxvj_K"
      },
      "execution_count": null,
      "outputs": []
    },
    {
      "cell_type": "code",
      "source": [
        "(x12\n",
        " .map(lambda x: (x, 'wartosc-wymagane-pole'))\n",
        " ).collect()"
      ],
      "metadata": {
        "id": "j11Muv0CvmWY"
      },
      "execution_count": null,
      "outputs": []
    },
    {
      "cell_type": "code",
      "source": [
        "(x12\n",
        " .map(lambda x: (x, 'wartosc-wymagane-pole'))\n",
        " ).countByKey()"
      ],
      "metadata": {
        "id": "mznBNBmjvoNc"
      },
      "execution_count": null,
      "outputs": []
    },
    {
      "cell_type": "code",
      "source": [
        "slownik = (x12\n",
        " .map(lambda x: (x, 'wartosc-wymagane-pole'))\n",
        " ).countByKey()"
      ],
      "metadata": {
        "id": "UM-GW6OgwW27"
      },
      "execution_count": null,
      "outputs": []
    },
    {
      "cell_type": "code",
      "source": [
        "x12_dict_python = dict(slownik)\n",
        "x12_dict_python"
      ],
      "metadata": {
        "id": "K5ZwRaC8vwTX"
      },
      "execution_count": null,
      "outputs": []
    },
    {
      "cell_type": "code",
      "source": [
        "x12_dict_python['pies']"
      ],
      "metadata": {
        "id": "RYj5uRYbwUdH"
      },
      "execution_count": null,
      "outputs": []
    },
    {
      "cell_type": "markdown",
      "source": [
        "###Broadcast"
      ],
      "metadata": {
        "id": "5OvdzP3DwkZh"
      }
    },
    {
      "cell_type": "code",
      "source": [
        "my_local_dict = {'cityX': [1,2,3],\n",
        "                 'cityY': [4,5,6]}"
      ],
      "metadata": {
        "id": "rhDtcHB5wjmp"
      },
      "execution_count": null,
      "outputs": []
    },
    {
      "cell_type": "code",
      "source": [
        "my_rdd = sc.parallelize(['cityX','cityY'])\n",
        "my_rdd.collect()"
      ],
      "metadata": {
        "id": "C_uQWfUkwmTa"
      },
      "execution_count": null,
      "outputs": []
    },
    {
      "cell_type": "code",
      "source": [
        "my_rdd.map(lambda x: (x, my_local_dict[x][2])).collect() #Złe podejście"
      ],
      "metadata": {
        "id": "y7D8DU50wnd-"
      },
      "execution_count": null,
      "outputs": []
    },
    {
      "cell_type": "code",
      "source": [
        "my_broadcasted_dict = sc.broadcast(my_local_dict)"
      ],
      "metadata": {
        "id": "0GZop-F_wqtK"
      },
      "execution_count": null,
      "outputs": []
    },
    {
      "cell_type": "code",
      "source": [
        "my_broadcasted_dict.value"
      ],
      "metadata": {
        "id": "i4c1bcSdwsVu"
      },
      "execution_count": null,
      "outputs": []
    },
    {
      "cell_type": "code",
      "source": [
        "my_rdd.map(lambda x: (x, my_broadcasted_dict.value[x][2])).collect() #Dobre podejście"
      ],
      "metadata": {
        "id": "tFkgSVdPwuLZ"
      },
      "execution_count": null,
      "outputs": []
    },
    {
      "cell_type": "markdown",
      "source": [
        "###Accumulators"
      ],
      "metadata": {
        "id": "WWJi18qqx8_H"
      }
    },
    {
      "cell_type": "code",
      "source": [
        "accumulator = sc.accumulator(0)"
      ],
      "metadata": {
        "id": "bgfguvH2x9ZJ"
      },
      "execution_count": null,
      "outputs": []
    },
    {
      "cell_type": "code",
      "source": [
        "accumulator.value"
      ],
      "metadata": {
        "id": "MLzzbcHmyDLk"
      },
      "execution_count": null,
      "outputs": []
    },
    {
      "cell_type": "code",
      "source": [
        "sc.parallelize([1,2,3,4]).foreach(lambda x: accumulator.add(x))"
      ],
      "metadata": {
        "id": "KW1V7qUXyD9O"
      },
      "execution_count": null,
      "outputs": []
    },
    {
      "cell_type": "code",
      "source": [
        "accumulator.value"
      ],
      "metadata": {
        "id": "9iBLfPQKyFZm"
      },
      "execution_count": null,
      "outputs": []
    },
    {
      "cell_type": "markdown",
      "source": [
        "###Zadanie 3 - wordcount\n",
        "1. Wczytaj plik TREASURE_ISLAND.txt z moodle do RDD\n",
        "2. wykonaj wordcount (jakie słowo ile razy wystąpiło)"
      ],
      "metadata": {
        "id": "dpVggmgQyTtM"
      }
    },
    {
      "cell_type": "code",
      "source": [
        "#kod"
      ],
      "metadata": {
        "id": "EXgex05519Ba"
      },
      "execution_count": null,
      "outputs": []
    },
    {
      "cell_type": "markdown",
      "source": [
        "##Spark SQL (DataFrames)"
      ],
      "metadata": {
        "id": "S77gpQjWZD7V"
      }
    },
    {
      "cell_type": "code",
      "source": [
        "!head -5 people.txt"
      ],
      "metadata": {
        "id": "qD4LFSpjZFHS"
      },
      "execution_count": null,
      "outputs": []
    },
    {
      "cell_type": "code",
      "source": [
        "spark"
      ],
      "metadata": {
        "id": "6TdDodUBdgYB"
      },
      "execution_count": null,
      "outputs": []
    },
    {
      "cell_type": "code",
      "source": [
        "df = spark.read.csv('people.txt', header=True)"
      ],
      "metadata": {
        "id": "a9BLInEucqba"
      },
      "execution_count": null,
      "outputs": []
    },
    {
      "cell_type": "code",
      "source": [
        "type(df)"
      ],
      "metadata": {
        "id": "FdS6QAiAcrFC"
      },
      "execution_count": null,
      "outputs": []
    },
    {
      "cell_type": "code",
      "source": [
        "df.show(100)"
      ],
      "metadata": {
        "id": "Of9QZYIGcseI"
      },
      "execution_count": null,
      "outputs": []
    },
    {
      "cell_type": "code",
      "source": [
        "df.storageLevel.useMemory"
      ],
      "metadata": {
        "id": "jbapBCtcczEl"
      },
      "execution_count": null,
      "outputs": []
    },
    {
      "cell_type": "code",
      "source": [
        "df.cache()"
      ],
      "metadata": {
        "id": "HS7dK_7Fdtdo"
      },
      "execution_count": null,
      "outputs": []
    },
    {
      "cell_type": "code",
      "source": [
        "df.storageLevel.useMemory"
      ],
      "metadata": {
        "id": "icATrcjAd255"
      },
      "execution_count": null,
      "outputs": []
    },
    {
      "cell_type": "code",
      "source": [
        "import pyspark.sql.functions as f"
      ],
      "metadata": {
        "id": "RiL4nnEyd48z"
      },
      "execution_count": null,
      "outputs": []
    },
    {
      "cell_type": "code",
      "source": [
        "x = df.select('Age', df['Age']+2, f.col('Age')+2).toPandas()"
      ],
      "metadata": {
        "id": "DIZrLboJd6rd"
      },
      "execution_count": null,
      "outputs": []
    },
    {
      "cell_type": "code",
      "source": [
        "x"
      ],
      "metadata": {
        "id": "-NcVD9b3eI0T"
      },
      "execution_count": null,
      "outputs": []
    },
    {
      "cell_type": "code",
      "source": [
        "df.show(100)"
      ],
      "metadata": {
        "id": "s5EpfTLPeKOl"
      },
      "execution_count": null,
      "outputs": []
    },
    {
      "cell_type": "code",
      "source": [
        "(df\n",
        " .filter(f.col('Age') > 20)\n",
        " .filter(f.col('Name').startswith('F'))\n",
        " ).show(100)"
      ],
      "metadata": {
        "id": "-k0vFCaOfIH-"
      },
      "execution_count": null,
      "outputs": []
    },
    {
      "cell_type": "code",
      "source": [
        "df.groupBy('Name').count().show()"
      ],
      "metadata": {
        "id": "ojGTi1n3fK08"
      },
      "execution_count": null,
      "outputs": []
    },
    {
      "cell_type": "markdown",
      "source": [
        "###TempView / GlobalTempView (ala SQL)"
      ],
      "metadata": {
        "id": "mgDudeWfguSs"
      }
    },
    {
      "cell_type": "code",
      "source": [
        "df.createOrReplaceTempView('people')\n",
        "sqlDF = spark.sql(\"SELECT * FROM people WHERE Age>20 AND SUBSTR(Name,1,1)='F'\")\n",
        "sqlDF.show()"
      ],
      "metadata": {
        "id": "wGOWv-DMgcZY"
      },
      "execution_count": null,
      "outputs": []
    },
    {
      "cell_type": "code",
      "source": [
        "df.createOrReplaceGlobalTempView('people_g')\n",
        "sqlDF = spark.sql(\"SELECT * FROM global_temp.people_g WHERE Age>20 AND SUBSTR(Name,1,1)='F'\")\n",
        "sqlDF.show()"
      ],
      "metadata": {
        "id": "labfDzb-gwdX"
      },
      "execution_count": null,
      "outputs": []
    },
    {
      "cell_type": "markdown",
      "source": [
        "### rdd $\\mapsto$ DF"
      ],
      "metadata": {
        "id": "moJwOgKKhQOq"
      }
    },
    {
      "cell_type": "code",
      "source": [
        "lines = sc.textFile('people_noheader.txt')"
      ],
      "metadata": {
        "id": "jJ4-4mJFhWRu"
      },
      "execution_count": null,
      "outputs": []
    },
    {
      "cell_type": "code",
      "source": [
        "lines.take(10)"
      ],
      "metadata": {
        "id": "Ngu87hefhYnj"
      },
      "execution_count": null,
      "outputs": []
    },
    {
      "cell_type": "code",
      "source": [
        "parts = lines.map(lambda x: x.split(','))\n",
        "parts.take(10)"
      ],
      "metadata": {
        "id": "stzGItg3hZ8m"
      },
      "execution_count": null,
      "outputs": []
    },
    {
      "cell_type": "code",
      "source": [
        "parts = parts.map(lambda x: [x[0], int(x[1].strip())])\n",
        "parts.take(10)"
      ],
      "metadata": {
        "id": "9XlescsRh4u5"
      },
      "execution_count": null,
      "outputs": []
    },
    {
      "cell_type": "code",
      "source": [
        "from pyspark.sql import Row"
      ],
      "metadata": {
        "id": "Ewo9gMlvh-WQ"
      },
      "execution_count": null,
      "outputs": []
    },
    {
      "cell_type": "code",
      "source": [
        "people = parts.map(lambda x: Row(Name=x[0], Age=x[1]))\n",
        "people.take(10)"
      ],
      "metadata": {
        "id": "L5oeBvOZiCTa"
      },
      "execution_count": null,
      "outputs": []
    },
    {
      "cell_type": "code",
      "source": [
        "type(people)"
      ],
      "metadata": {
        "id": "8h7aDvI9iDW8"
      },
      "execution_count": null,
      "outputs": []
    },
    {
      "cell_type": "code",
      "source": [
        "DFpeople = spark.createDataFrame(people)"
      ],
      "metadata": {
        "id": "jYDKWltxiE_E"
      },
      "execution_count": null,
      "outputs": []
    },
    {
      "cell_type": "code",
      "source": [
        "type(DFpeople)"
      ],
      "metadata": {
        "id": "NrSYzFrhiGa6"
      },
      "execution_count": null,
      "outputs": []
    },
    {
      "cell_type": "markdown",
      "source": [
        "###modyfikacja schema - sposob 1"
      ],
      "metadata": {
        "id": "7IwJFOW07mdS"
      }
    },
    {
      "cell_type": "code",
      "source": [
        "DFpeople.show()"
      ],
      "metadata": {
        "id": "PUpQNIPfiHvT"
      },
      "execution_count": null,
      "outputs": []
    },
    {
      "cell_type": "code",
      "source": [
        "DFpeople.printSchema()"
      ],
      "metadata": {
        "id": "tuOE1XTuiJBX"
      },
      "execution_count": null,
      "outputs": []
    },
    {
      "cell_type": "code",
      "source": [
        "from pyspark.sql.types import *"
      ],
      "metadata": {
        "id": "F_c72a1SidEE"
      },
      "execution_count": null,
      "outputs": []
    },
    {
      "cell_type": "code",
      "source": [
        "fields = [StructField('Names', StringType()),\n",
        "          StructField('Age', IntegerType())]"
      ],
      "metadata": {
        "id": "98BCSSBHie1R"
      },
      "execution_count": null,
      "outputs": []
    },
    {
      "cell_type": "code",
      "source": [
        "schema = StructType(fields)"
      ],
      "metadata": {
        "id": "hmHItXVLigUt"
      },
      "execution_count": null,
      "outputs": []
    },
    {
      "cell_type": "code",
      "source": [
        "schema"
      ],
      "metadata": {
        "id": "USIPdS2vih3q"
      },
      "execution_count": null,
      "outputs": []
    },
    {
      "cell_type": "code",
      "source": [
        "DFpeople = spark.createDataFrame(people, schema)"
      ],
      "metadata": {
        "id": "FJ7c9bcUijbg"
      },
      "execution_count": null,
      "outputs": []
    },
    {
      "cell_type": "code",
      "source": [
        "DFpeople.printSchema()"
      ],
      "metadata": {
        "id": "55oOYF4hilWm"
      },
      "execution_count": null,
      "outputs": []
    },
    {
      "cell_type": "code",
      "source": [
        "DFpeople.show()"
      ],
      "metadata": {
        "id": "yrqXUT8iimuC"
      },
      "execution_count": null,
      "outputs": []
    },
    {
      "cell_type": "code",
      "source": [
        "DFpeople.createOrReplaceTempView('people')"
      ],
      "metadata": {
        "id": "-b9kP1E1in2s"
      },
      "execution_count": null,
      "outputs": []
    },
    {
      "cell_type": "code",
      "source": [
        "x = spark.sql(\"SELECT * FROM people WHERE AGE >=20 AND AGE <=40\")"
      ],
      "metadata": {
        "id": "L-5q9w7yipVo"
      },
      "execution_count": null,
      "outputs": []
    },
    {
      "cell_type": "code",
      "source": [
        "x.show()"
      ],
      "metadata": {
        "id": "mmgU9SvFirMf"
      },
      "execution_count": null,
      "outputs": []
    },
    {
      "cell_type": "code",
      "source": [
        "DFpeople.printSchema()"
      ],
      "metadata": {
        "id": "Dv0FOj-gisaU"
      },
      "execution_count": null,
      "outputs": []
    },
    {
      "cell_type": "markdown",
      "source": [
        "###modyfikacja schema - sposob 2"
      ],
      "metadata": {
        "id": "h9M0o0pd7ydr"
      }
    },
    {
      "cell_type": "code",
      "source": [
        "import pyspark.sql.functions as f"
      ],
      "metadata": {
        "id": "sGB8ZVjhivQt"
      },
      "execution_count": null,
      "outputs": []
    },
    {
      "cell_type": "code",
      "source": [
        "df = (DFpeople\n",
        "      .withColumn('Age', f.col('Age').cast(StringType())))"
      ],
      "metadata": {
        "id": "kdUPTrcgixko"
      },
      "execution_count": null,
      "outputs": []
    },
    {
      "cell_type": "code",
      "source": [
        "df.printSchema()"
      ],
      "metadata": {
        "id": "IEJZ7GZjiynd"
      },
      "execution_count": null,
      "outputs": []
    },
    {
      "cell_type": "markdown",
      "source": [
        "###ładowanie df od razu ze zdefiniowana schema"
      ],
      "metadata": {
        "id": "YwxvNHhK72P3"
      }
    },
    {
      "cell_type": "code",
      "source": [
        "schema_for_people = StructType([StructField('Names', StringType()),\n",
        "                                StructField('Age', IntegerType())])"
      ],
      "metadata": {
        "id": "jg4XdOXR7Kmi"
      },
      "execution_count": null,
      "outputs": []
    },
    {
      "cell_type": "code",
      "source": [
        "df_with_schema = spark.read.csv(path='people_noheader.txt', schema=schema_for_people)"
      ],
      "metadata": {
        "id": "1CSLQIPiiztU"
      },
      "execution_count": null,
      "outputs": []
    },
    {
      "cell_type": "code",
      "source": [
        "df_with_schema.printSchema()"
      ],
      "metadata": {
        "id": "Zbyrn2OV79pw"
      },
      "execution_count": null,
      "outputs": []
    },
    {
      "cell_type": "markdown",
      "source": [
        "### DF $\\mapsto$ RDD"
      ],
      "metadata": {
        "id": "uPcQQSLgDGn_"
      }
    },
    {
      "cell_type": "code",
      "source": [
        "df_with_schema.rdd.take(10)"
      ],
      "metadata": {
        "id": "XNS_ogX9DJME"
      },
      "execution_count": null,
      "outputs": []
    },
    {
      "cell_type": "code",
      "source": [
        "names = df_with_schema.rdd.map(lambda x: x.Names).collect()"
      ],
      "metadata": {
        "id": "NBNyPvuzDKiW"
      },
      "execution_count": null,
      "outputs": []
    },
    {
      "cell_type": "code",
      "source": [
        "names"
      ],
      "metadata": {
        "id": "9SxpXhfyDMGe"
      },
      "execution_count": null,
      "outputs": []
    },
    {
      "cell_type": "code",
      "source": [
        "names = df_with_schema.rdd.map(lambda x: x[0]).collect()"
      ],
      "metadata": {
        "id": "bZewicMhDOEW"
      },
      "execution_count": null,
      "outputs": []
    },
    {
      "cell_type": "code",
      "source": [
        "names"
      ],
      "metadata": {
        "id": "OeHNtN6ADPhZ"
      },
      "execution_count": null,
      "outputs": []
    },
    {
      "cell_type": "code",
      "source": [
        "rdd_with_tuple = df_with_schema.rdd.map(lambda x: (x[0], x[1]))"
      ],
      "metadata": {
        "id": "W0Lq08sRD4D9"
      },
      "execution_count": null,
      "outputs": []
    },
    {
      "cell_type": "code",
      "source": [
        "rdd_with_tuple.take(5)"
      ],
      "metadata": {
        "id": "MtD8PK-1EDhu"
      },
      "execution_count": null,
      "outputs": []
    },
    {
      "cell_type": "code",
      "source": [
        "type(rdd_with_tuple)"
      ],
      "metadata": {
        "id": "DHeTG7zgEFkE"
      },
      "execution_count": null,
      "outputs": []
    },
    {
      "cell_type": "markdown",
      "source": [
        "##Zadanie 4\n",
        "1. Załaduj plik pracownicy.csv z poprawnie zdefiniowaną strukturą i typami danych (schema)\n",
        "2. Dla każdego roku urodzenia występującego w danych wylicz średnią stawkę godzinową\n",
        "3. posortuj od najmłodszych lat do najstarszych\n",
        "4. Wynik zapisz do excela"
      ],
      "metadata": {
        "id": "p_jGnIjP-RUr"
      }
    },
    {
      "cell_type": "code",
      "source": [
        "#kod"
      ],
      "metadata": {
        "id": "5rfCBW7LCy_-"
      },
      "execution_count": null,
      "outputs": []
    },
    {
      "cell_type": "markdown",
      "source": [
        "#Zajęcia 25.04.2022"
      ],
      "metadata": {
        "id": "zL1n3RJYsqEK"
      }
    },
    {
      "cell_type": "markdown",
      "source": [
        "##UDF"
      ],
      "metadata": {
        "id": "D3Qn9Z-TyVLp"
      }
    },
    {
      "cell_type": "code",
      "source": [
        "df = spark.createDataFrame([(\"2022-04-25\", \"John Doe\", 21)], (\"date\", \"name\", \"age\"))\n",
        "df.show()"
      ],
      "metadata": {
        "id": "bxOCvsT2yVpp"
      },
      "execution_count": null,
      "outputs": []
    },
    {
      "cell_type": "code",
      "source": [
        "#Jak wyciąć rok z daty?"
      ],
      "metadata": {
        "id": "xGXHoVYxyV1m"
      },
      "execution_count": null,
      "outputs": []
    },
    {
      "cell_type": "code",
      "source": [
        "from pyspark.sql.functions import udf"
      ],
      "metadata": {
        "id": "yWeYDBGAyWBH"
      },
      "execution_count": null,
      "outputs": []
    },
    {
      "cell_type": "code",
      "source": [
        "def f_do_wycinania_roku(x):\n",
        "  return x[:4]"
      ],
      "metadata": {
        "id": "lZIn4lLczR_8"
      },
      "execution_count": null,
      "outputs": []
    },
    {
      "cell_type": "code",
      "source": [
        "udf_do_wycinania_roku = udf(f_do_wycinania_roku, StringType())"
      ],
      "metadata": {
        "id": "ufZekc2azSII"
      },
      "execution_count": null,
      "outputs": []
    },
    {
      "cell_type": "code",
      "source": [
        "(df\n",
        " .withColumn('date', udf_do_wycinania_roku(f.col('date')))\n",
        " ).show()"
      ],
      "metadata": {
        "id": "3d4PJczOzWBl"
      },
      "execution_count": null,
      "outputs": []
    },
    {
      "cell_type": "code",
      "source": [
        "#Jeżeli chcemy UDF wykorzystywać później w SQL to trzeba go zarejestrować (3.3 Registering PySpark UDF & use it on SQL -> https://sparkbyexamples.com/pyspark/pyspark-udf-user-defined-function/)"
      ],
      "metadata": {
        "id": "rSIlfm0i0EP4"
      },
      "execution_count": null,
      "outputs": []
    },
    {
      "cell_type": "code",
      "source": [
        "#\"\"\" Using UDF on SQL \"\"\"\n",
        "spark.udf.register(\"udf_do_wycinania_roku\", udf_do_wycinania_roku)\n",
        "df.createOrReplaceTempView(\"df\")\n",
        "spark.sql(\"select udf_do_wycinania_roku(date), name, age from df\").show()"
      ],
      "metadata": {
        "id": "ElWU5WjI0PrP"
      },
      "execution_count": null,
      "outputs": []
    },
    {
      "cell_type": "markdown",
      "source": [
        "###Pagecounts dataset"
      ],
      "metadata": {
        "id": "sldAIB0XzhFh"
      }
    },
    {
      "cell_type": "code",
      "source": [
        "from pyspark.sql.types import *\n",
        "import pyspark.sql.functions as f"
      ],
      "metadata": {
        "id": "REQB_3agsyr_"
      },
      "execution_count": null,
      "outputs": []
    },
    {
      "cell_type": "code",
      "source": [
        "!unzip pagecounts.zip"
      ],
      "metadata": {
        "id": "xZSgNowrs16y"
      },
      "execution_count": null,
      "outputs": []
    },
    {
      "cell_type": "code",
      "source": [
        "!head pagecounts/part-00001"
      ],
      "metadata": {
        "id": "EFTlSE1Ss8KN"
      },
      "execution_count": null,
      "outputs": []
    },
    {
      "cell_type": "code",
      "source": [
        "!head pagecounts/part-00053"
      ],
      "metadata": {
        "id": "JmIjoTThs-wa"
      },
      "execution_count": null,
      "outputs": []
    },
    {
      "cell_type": "code",
      "source": [
        "pagecounts = sc.textFile('pagecounts')"
      ],
      "metadata": {
        "id": "Q4EFA54xs_TW"
      },
      "execution_count": null,
      "outputs": []
    },
    {
      "cell_type": "code",
      "source": [
        "pagecounts.count()"
      ],
      "metadata": {
        "id": "pYpR_1gQtAjr"
      },
      "execution_count": null,
      "outputs": []
    },
    {
      "cell_type": "code",
      "source": [
        "pagecounts.take(10)"
      ],
      "metadata": {
        "id": "zyVaJmGntCxY"
      },
      "execution_count": null,
      "outputs": []
    },
    {
      "cell_type": "markdown",
      "source": [
        "##Zadanie 5\n",
        "Jakiego dnia ile było wejść a angielską wikipedię? Rozwiąż na dwa sposoby (wykorzystując czyste RDD oraz Dataframes). 4 kolumna w danych oznacza ile bylo wejsc."
      ],
      "metadata": {
        "id": "Zz5o4gPotFOr"
      }
    },
    {
      "cell_type": "code",
      "source": [
        "#kod 1 (RDD)"
      ],
      "metadata": {
        "id": "55FegrLgtHFA"
      },
      "execution_count": null,
      "outputs": []
    },
    {
      "cell_type": "code",
      "source": [
        "#kod 2 (Dataframes)"
      ],
      "metadata": {
        "id": "Yh_E4hRsuEHg"
      },
      "execution_count": null,
      "outputs": []
    },
    {
      "cell_type": "markdown",
      "source": [
        "##Zadanie 6\n",
        "1. Wczytaj wiki_sample.parquet (moodle)\n",
        "2. Odpowiedz na pytanie którzy użytkownicy edytowali najwięcej stron na wikipedii (top 5)?\n",
        "3. Wykonaj zadanie na dwa sposoby (Dataframe SQL oraz Dataframe programmatic API)"
      ],
      "metadata": {
        "id": "DJzetiAzG_ck"
      }
    },
    {
      "cell_type": "code",
      "source": [
        "#kod"
      ],
      "metadata": {
        "id": "EUdmeaECGpAE"
      },
      "execution_count": null,
      "outputs": []
    },
    {
      "cell_type": "markdown",
      "source": [
        "#Zajęcia 04.05.2022"
      ],
      "metadata": {
        "id": "qrJMjdpjpprS"
      }
    },
    {
      "cell_type": "markdown",
      "source": [
        "##Funkcje agregujące"
      ],
      "metadata": {
        "id": "IJLLZVEzJHb1"
      }
    },
    {
      "cell_type": "code",
      "source": [
        "df = spark.read.csv('sales_info.csv', inferSchema=True, header=True)"
      ],
      "metadata": {
        "id": "35V8DHbhJHxn"
      },
      "execution_count": null,
      "outputs": []
    },
    {
      "cell_type": "code",
      "source": [
        "df.show()"
      ],
      "metadata": {
        "id": "lqSjAzvzJKf2"
      },
      "execution_count": null,
      "outputs": []
    },
    {
      "cell_type": "code",
      "source": [
        "df.printSchema()"
      ],
      "metadata": {
        "id": "lX_pdFQeJL2j"
      },
      "execution_count": null,
      "outputs": []
    },
    {
      "cell_type": "code",
      "source": [
        "df.orderBy(['Company', 'Sales']).show()"
      ],
      "metadata": {
        "id": "7szICcjyJNRQ"
      },
      "execution_count": null,
      "outputs": []
    },
    {
      "cell_type": "code",
      "source": [
        "df.orderBy([f.col('Company'), f.col('Sales').desc()]).show()"
      ],
      "metadata": {
        "id": "jzylGdqHJQNv"
      },
      "execution_count": null,
      "outputs": []
    },
    {
      "cell_type": "code",
      "source": [
        "df.groupBy('Company').max().show()"
      ],
      "metadata": {
        "id": "CvGk93ziJRkB"
      },
      "execution_count": null,
      "outputs": []
    },
    {
      "cell_type": "code",
      "source": [
        "df.groupBy('Company').min().show()"
      ],
      "metadata": {
        "id": "ladHHJ8hJS-D"
      },
      "execution_count": null,
      "outputs": []
    },
    {
      "cell_type": "code",
      "source": [
        "df.groupBy('Company').sum().show()"
      ],
      "metadata": {
        "id": "7oh0h7J1JUXW"
      },
      "execution_count": null,
      "outputs": []
    },
    {
      "cell_type": "code",
      "source": [
        "(df\n",
        " .groupBy('Company')\n",
        " .agg(f.min('Sales').alias('MIN'),\n",
        "      f.max('Sales').alias('MAX'),\n",
        "      f.avg('Sales'),\n",
        "      f.stddev('Sales'))\n",
        ").withColumn('stddev_samp(Sales)', f.round(f.col('stddev_samp(Sales)'), 2)).show()"
      ],
      "metadata": {
        "id": "UrhJgLXaJV6g"
      },
      "execution_count": null,
      "outputs": []
    },
    {
      "cell_type": "markdown",
      "source": [
        "##Funkcje okienkowe"
      ],
      "metadata": {
        "id": "az-qzQI6JbR7"
      }
    },
    {
      "cell_type": "markdown",
      "source": [
        "Sources: https://sparkbyexamples.com/pyspark/pyspark-window-functions/ , https://databricks.com/blog/2015/07/15/introducing-window-functions-in-spark-sql.html\n",
        "\n",
        "Window functions explained: https://www.youtube.com/watch?v=wH6RaEWuiDQ (polecam!)"
      ],
      "metadata": {
        "id": "JUyys4_MJd0m"
      }
    },
    {
      "cell_type": "code",
      "source": [
        "import sys\n",
        "from pyspark.sql.window import Window"
      ],
      "metadata": {
        "id": "qgmpSFtSJbr7"
      },
      "execution_count": null,
      "outputs": []
    },
    {
      "cell_type": "code",
      "source": [
        "simpleData = ((\"James\", \"Sales\", 3000), \\\n",
        "    (\"Michael\", \"Sales\", 4600),  \\\n",
        "    (\"Robert\", \"Sales\", 4100),   \\\n",
        "    (\"Maria\", \"Finance\", 3000),  \\\n",
        "    (\"James\", \"Sales\", 3000),    \\\n",
        "    (\"Scott\", \"Finance\", 3300),  \\\n",
        "    (\"Jen\", \"Finance\", 3900),    \\\n",
        "    (\"Jeff\", \"Marketing\", 3000), \\\n",
        "    (\"Kumar\", \"Marketing\", 2000),\\\n",
        "    (\"Saif\", \"Sales\", 4100) \\\n",
        "  )"
      ],
      "metadata": {
        "id": "pH7HNH_oJgxl"
      },
      "execution_count": null,
      "outputs": []
    },
    {
      "cell_type": "code",
      "source": [
        "columns= [\"employee_name\", \"department\", \"salary\"]\n",
        "df = spark.createDataFrame(data = simpleData, schema = columns)\n",
        "df.printSchema()\n",
        "df.show(truncate=False)\n",
        "df.createOrReplaceTempView(\"df\")"
      ],
      "metadata": {
        "id": "tQOysxoXJh10"
      },
      "execution_count": null,
      "outputs": []
    },
    {
      "cell_type": "markdown",
      "source": [
        "###row_number()"
      ],
      "metadata": {
        "id": "Wv6Mjl2qJkce"
      }
    },
    {
      "cell_type": "code",
      "source": [
        "from pyspark.sql.functions import row_number"
      ],
      "metadata": {
        "id": "tNpsti1aJky8"
      },
      "execution_count": null,
      "outputs": []
    },
    {
      "cell_type": "code",
      "source": [
        "windowSpec = (Window\n",
        "              .partitionBy(f.col('department'))\n",
        "              .orderBy(f.col('salary').desc())\n",
        "              )"
      ],
      "metadata": {
        "id": "L4hp5mZCJmvN"
      },
      "execution_count": null,
      "outputs": []
    },
    {
      "cell_type": "code",
      "source": [
        "df.withColumn('row_number', row_number().over(windowSpec)).show()"
      ],
      "metadata": {
        "id": "6Lrk68E7JnhY"
      },
      "execution_count": null,
      "outputs": []
    },
    {
      "cell_type": "code",
      "source": [
        "sqlDF = spark.sql(\"\"\"SELECT employee_name, department, salary,\n",
        "                     row_number() OVER(PARTITION BY department ORDER BY salary DESC) AS row_number\n",
        "                     FROM df\n",
        "\"\"\")\n",
        "\n",
        "sqlDF.show()"
      ],
      "metadata": {
        "id": "luZkI2a9JpUD"
      },
      "execution_count": null,
      "outputs": []
    },
    {
      "cell_type": "markdown",
      "source": [
        "###rank()"
      ],
      "metadata": {
        "id": "e6VB6DahJqr6"
      }
    },
    {
      "cell_type": "code",
      "source": [
        "from pyspark.sql.functions import rank"
      ],
      "metadata": {
        "id": "d8NFemxbJrXj"
      },
      "execution_count": null,
      "outputs": []
    },
    {
      "cell_type": "code",
      "source": [
        "df.withColumn(\"rank\", rank().over(windowSpec)).show()"
      ],
      "metadata": {
        "id": "7HBOsYwzJtBB"
      },
      "execution_count": null,
      "outputs": []
    },
    {
      "cell_type": "code",
      "source": [
        "sqlDF = spark.sql(\"\"\"SELECT employee_name, department, salary,\n",
        "                     rank() OVER(PARTITION BY department ORDER BY salary DESC) AS rank\n",
        "                     FROM df\n",
        "\"\"\")\n",
        "\n",
        "sqlDF.show()"
      ],
      "metadata": {
        "id": "3aqgkyuKJvFd"
      },
      "execution_count": null,
      "outputs": []
    },
    {
      "cell_type": "markdown",
      "source": [
        "###dense_rank()"
      ],
      "metadata": {
        "id": "s-hRPO2BJwo2"
      }
    },
    {
      "cell_type": "code",
      "source": [
        "from pyspark.sql.functions import dense_rank\n",
        "df.withColumn(\"dense_rank\", dense_rank().over(windowSpec)).show()"
      ],
      "metadata": {
        "id": "yjEPydH6Jw4j"
      },
      "execution_count": null,
      "outputs": []
    },
    {
      "cell_type": "code",
      "source": [
        "sqlDF = spark.sql(\"\"\"SELECT employee_name, department, salary,\n",
        "                     dense_rank() OVER(PARTITION BY department ORDER BY salary DESC) AS dense_rank\n",
        "                     FROM df\n",
        "\"\"\")\n",
        "\n",
        "sqlDF.show()"
      ],
      "metadata": {
        "id": "_X9gjhTAJ1Zo"
      },
      "execution_count": null,
      "outputs": []
    },
    {
      "cell_type": "markdown",
      "source": [
        "###min(), max()"
      ],
      "metadata": {
        "id": "Z6Ex5WP6Jyqh"
      }
    },
    {
      "cell_type": "code",
      "source": [
        "df.withColumn(\"min_departament\", f.min('salary').over(windowSpec.rangeBetween(-sys.maxsize, sys.maxsize))).show()"
      ],
      "metadata": {
        "id": "eBq_Cr5kJ4F5"
      },
      "execution_count": null,
      "outputs": []
    },
    {
      "cell_type": "code",
      "source": [
        "sqlDF = spark.sql(\"\"\" SELECT employee_name, department, salary,\n",
        "                      min(salary) OVER(PARTITION BY department ORDER BY salary DESC RANGE BETWEEN UNBOUNDED PRECEDING AND UNBOUNDED FOLLOWING) as min_salary\n",
        "                      FROM df\n",
        "\"\"\")\n",
        "sqlDF.show()"
      ],
      "metadata": {
        "id": "il6AEEDvJ50j"
      },
      "execution_count": null,
      "outputs": []
    },
    {
      "cell_type": "markdown",
      "source": [
        "###LAG()"
      ],
      "metadata": {
        "id": "xVfltmVYKKfn"
      }
    },
    {
      "cell_type": "code",
      "source": [
        "import pyspark.sql.functions as f"
      ],
      "metadata": {
        "id": "Ja9o8ndoKK8M"
      },
      "execution_count": null,
      "outputs": []
    },
    {
      "cell_type": "code",
      "source": [
        "windowSpec = (Window\n",
        "              .partitionBy(f.col('department'))\n",
        "              .orderBy(f.col('salary').desc())\n",
        "              )"
      ],
      "metadata": {
        "id": "XCMyRZphKL3-"
      },
      "execution_count": null,
      "outputs": []
    },
    {
      "cell_type": "code",
      "source": [
        "from pyspark.sql.functions import lag"
      ],
      "metadata": {
        "id": "Rjz7tM3lKMwg"
      },
      "execution_count": null,
      "outputs": []
    },
    {
      "cell_type": "code",
      "source": [
        "df.withColumn(\"lag_salary\", lag(\"salary\", 1).over(windowSpec)).show()"
      ],
      "metadata": {
        "id": "7GvwkwdxKN_R"
      },
      "execution_count": null,
      "outputs": []
    },
    {
      "cell_type": "code",
      "source": [
        "sqlDF = spark.sql(\"\"\"SELECT employee_name, department, salary,\n",
        "                     LAG(salary) OVER(PARTITION BY department ORDER BY salary DESC) as lag_salary\n",
        "                     FROM df\n",
        "\n",
        "\"\"\")"
      ],
      "metadata": {
        "id": "baSoyo9MKPzD"
      },
      "execution_count": null,
      "outputs": []
    },
    {
      "cell_type": "code",
      "source": [
        "sqlDF.show(10)"
      ],
      "metadata": {
        "id": "PfRCOC60KQ5Y"
      },
      "execution_count": null,
      "outputs": []
    },
    {
      "cell_type": "markdown",
      "source": [
        "###LEAD()"
      ],
      "metadata": {
        "id": "wSSPsM9mKSUk"
      }
    },
    {
      "cell_type": "code",
      "source": [
        "from pyspark.sql.functions import lead"
      ],
      "metadata": {
        "id": "VnZlPZ1tKSnU"
      },
      "execution_count": null,
      "outputs": []
    },
    {
      "cell_type": "code",
      "source": [
        "df.withColumn(\"lead_salary\", lead(\"salary\", 2).over(windowSpec)).show()"
      ],
      "metadata": {
        "id": "5s-kdjzuKVio"
      },
      "execution_count": null,
      "outputs": []
    },
    {
      "cell_type": "code",
      "source": [
        "#SQL: https://www.youtube.com/watch?v=tNdJKrwQKIU"
      ],
      "metadata": {
        "id": "Jv0TL0FnKYHQ"
      },
      "execution_count": null,
      "outputs": []
    },
    {
      "cell_type": "markdown",
      "source": [
        "##Zadanie 7\n",
        "1. wczytaj plik bonuses.csv\n",
        "2. stwórz tabelę o kolumnach employee_id, year, max_quarter_bonus, min_quarter_bonus, total_bonus, total_bonus_previous_year, total_bonus_2_years_ago"
      ],
      "metadata": {
        "id": "LKuJI71j4TUi"
      }
    },
    {
      "cell_type": "code",
      "source": [
        "#kod"
      ],
      "metadata": {
        "id": "TQoJ_IAw4L9K"
      },
      "execution_count": null,
      "outputs": []
    },
    {
      "cell_type": "markdown",
      "source": [
        "#Zajęcia 22.05.2024"
      ],
      "metadata": {
        "id": "kOZ-g7XjxAjt"
      }
    },
    {
      "cell_type": "markdown",
      "source": [
        "##Machine Learning"
      ],
      "metadata": {
        "id": "l7ac7a17xF40"
      }
    },
    {
      "cell_type": "markdown",
      "source": [
        "##Colaborative Filtering\n",
        "Dla chętnych: https://www.youtube.com/watch?v=ZspR5PZemcs"
      ],
      "metadata": {
        "id": "P_tkBF4dxt0w"
      }
    },
    {
      "cell_type": "code",
      "source": [
        "!unzip ml-100k.zip"
      ],
      "metadata": {
        "id": "gwsYut7pxuNO",
        "outputId": "dfca7660-ff9d-41a7-d91a-f9d2dca8479a",
        "colab": {
          "base_uri": "https://localhost:8080/"
        }
      },
      "execution_count": null,
      "outputs": [
        {
          "output_type": "stream",
          "name": "stdout",
          "text": [
            "Archive:  ml-100k.zip\n",
            "   creating: ml-100k/\n",
            "  inflating: ml-100k/allbut.pl       \n",
            "  inflating: ml-100k/mku.sh          \n",
            "  inflating: ml-100k/README          \n",
            "  inflating: ml-100k/u.data          \n",
            "  inflating: ml-100k/u.genre         \n",
            "  inflating: ml-100k/u.info          \n",
            "  inflating: ml-100k/u.item          \n",
            "  inflating: ml-100k/u.occupation    \n",
            "  inflating: ml-100k/u.user          \n",
            "  inflating: ml-100k/u1.base         \n",
            "  inflating: ml-100k/u1.test         \n",
            "  inflating: ml-100k/u2.base         \n",
            "  inflating: ml-100k/u2.test         \n",
            "  inflating: ml-100k/u3.base         \n",
            "  inflating: ml-100k/u3.test         \n",
            "  inflating: ml-100k/u4.base         \n",
            "  inflating: ml-100k/u4.test         \n",
            "  inflating: ml-100k/u5.base         \n",
            "  inflating: ml-100k/u5.test         \n",
            "  inflating: ml-100k/ua.base         \n",
            "  inflating: ml-100k/ua.test         \n",
            "  inflating: ml-100k/ub.base         \n",
            "  inflating: ml-100k/ub.test         \n"
          ]
        }
      ]
    },
    {
      "cell_type": "code",
      "source": [
        "#u.data     -- The full u data set, 100000 ratings by 943 users on 1682 items.\n",
        "#              Each user has rated at least 20 movies.  Users and items are\n",
        "#              numbered consecutively from 1.  The data is randomly\n",
        "#              ordered. This is a tab separated list of\n",
        "#\t         user id | item id | rating | timestamp.\n",
        "#              The time stamps are unix seconds since 1/1/1970 UTC"
      ],
      "metadata": {
        "id": "bTR4l5-tx1Yr"
      },
      "execution_count": null,
      "outputs": []
    },
    {
      "cell_type": "code",
      "source": [
        "!head -5 ml-100k/u.data"
      ],
      "metadata": {
        "id": "9EiBuH6kx21I",
        "outputId": "85cecfed-769e-4e19-90c1-1ef63f550822",
        "colab": {
          "base_uri": "https://localhost:8080/"
        }
      },
      "execution_count": null,
      "outputs": [
        {
          "output_type": "stream",
          "name": "stdout",
          "text": [
            "196\t242\t3\t881250949\n",
            "186\t302\t3\t891717742\n",
            "22\t377\t1\t878887116\n",
            "244\t51\t2\t880606923\n",
            "166\t346\t1\t886397596\n"
          ]
        }
      ]
    },
    {
      "cell_type": "code",
      "source": [
        "ratings_data = spark.read.csv(\"ml-100k/u.data\", sep=\"\t\", header=False, inferSchema=True)"
      ],
      "metadata": {
        "id": "rDmwXrUix4tR"
      },
      "execution_count": null,
      "outputs": []
    },
    {
      "cell_type": "code",
      "source": [
        "from pyspark.sql.types import *"
      ],
      "metadata": {
        "id": "OGb1STJVx522"
      },
      "execution_count": null,
      "outputs": []
    },
    {
      "cell_type": "code",
      "source": [
        "fields = [StructField('user_id', IntegerType()),\n",
        "          StructField('item_id', IntegerType()),\n",
        "          StructField('rating', IntegerType()),\n",
        "          StructField('timestamp', IntegerType())\n",
        "          ]"
      ],
      "metadata": {
        "id": "PI0BymC_x7XA"
      },
      "execution_count": null,
      "outputs": []
    },
    {
      "cell_type": "code",
      "source": [
        "schema = StructType(fields)"
      ],
      "metadata": {
        "id": "8wGgM6I7x8ak"
      },
      "execution_count": null,
      "outputs": []
    },
    {
      "cell_type": "code",
      "source": [
        "ratings_data = spark.read.csv(\"ml-100k/u.data\", sep=\"\t\", header=False, schema=schema)"
      ],
      "metadata": {
        "id": "V2vkChLNx843"
      },
      "execution_count": null,
      "outputs": []
    },
    {
      "cell_type": "code",
      "source": [
        "ratings_data.show(10)"
      ],
      "metadata": {
        "id": "xdhuUCjvx963",
        "outputId": "3c05035a-0ec7-45a9-eba0-625c75c4bada",
        "colab": {
          "base_uri": "https://localhost:8080/"
        }
      },
      "execution_count": null,
      "outputs": [
        {
          "output_type": "stream",
          "name": "stdout",
          "text": [
            "+-------+-------+------+---------+\n",
            "|user_id|item_id|rating|timestamp|\n",
            "+-------+-------+------+---------+\n",
            "|    196|    242|     3|881250949|\n",
            "|    186|    302|     3|891717742|\n",
            "|     22|    377|     1|878887116|\n",
            "|    244|     51|     2|880606923|\n",
            "|    166|    346|     1|886397596|\n",
            "|    298|    474|     4|884182806|\n",
            "|    115|    265|     2|881171488|\n",
            "|    253|    465|     5|891628467|\n",
            "|    305|    451|     3|886324817|\n",
            "|      6|     86|     3|883603013|\n",
            "+-------+-------+------+---------+\n",
            "only showing top 10 rows\n",
            "\n"
          ]
        }
      ]
    },
    {
      "cell_type": "code",
      "source": [
        "(train, test) = ratings_data.randomSplit([0.8, 0.2])"
      ],
      "metadata": {
        "id": "22AN7UBcx-6j"
      },
      "execution_count": null,
      "outputs": []
    },
    {
      "cell_type": "code",
      "source": [
        "from pyspark.ml.evaluation import RegressionEvaluator\n",
        "from pyspark.ml.recommendation import ALS\n",
        "from pyspark.sql import Row"
      ],
      "metadata": {
        "id": "31DXIt0ryABz"
      },
      "execution_count": null,
      "outputs": []
    },
    {
      "cell_type": "code",
      "source": [
        "#https://spark.apache.org/docs/latest/api/python/reference/api/pyspark.ml.recommendation.ALS.html#pyspark.ml.recommendation.ALS\n",
        "als = ALS(maxIter=5, #ile razy powtórzy uczenie się\n",
        "          modelu rank=20, regParam=0.01, userCol=\"user_id\", itemCol=\"item_id\", ratingCol=\"rating\", coldStartStrategy=\"drop\") #gdy klient nie obwejrzał żadnego filmu- dlatego wybieramy kilka filmów na start)"
      ],
      "metadata": {
        "id": "9dW4yRI0yD-o",
        "outputId": "a09b58e4-244d-48f7-eb74-23c9ceb1141c",
        "colab": {
          "base_uri": "https://localhost:8080/",
          "height": 124
        }
      },
      "execution_count": null,
      "outputs": [
        {
          "output_type": "error",
          "ename": "SyntaxError",
          "evalue": "invalid syntax. Perhaps you forgot a comma? (<ipython-input-27-eb5b7c3e44b0>, line 3)",
          "traceback": [
            "\u001b[0;36m  File \u001b[0;32m\"<ipython-input-27-eb5b7c3e44b0>\"\u001b[0;36m, line \u001b[0;32m3\u001b[0m\n\u001b[0;31m    modelu rank=20, regParam=0.01, userCol=\"user_id\", itemCol=\"item_id\", ratingCol=\"rating\", coldStartStrategy=\"drop\") #gdy klient nie obwejrzał żadnego filmu- dlatego wybieramy kilka filmów na start)\u001b[0m\n\u001b[0m    ^\u001b[0m\n\u001b[0;31mSyntaxError\u001b[0m\u001b[0;31m:\u001b[0m invalid syntax. Perhaps you forgot a comma?\n"
          ]
        }
      ]
    },
    {
      "cell_type": "code",
      "source": [
        "model = als.fit(train)"
      ],
      "metadata": {
        "id": "SYek0RMHyFaE",
        "outputId": "5564aa79-a89f-442f-de6a-c64d1aa8f584",
        "colab": {
          "base_uri": "https://localhost:8080/",
          "height": 141
        }
      },
      "execution_count": null,
      "outputs": [
        {
          "output_type": "error",
          "ename": "NameError",
          "evalue": "name 'als' is not defined",
          "traceback": [
            "\u001b[0;31m---------------------------------------------------------------------------\u001b[0m",
            "\u001b[0;31mNameError\u001b[0m                                 Traceback (most recent call last)",
            "\u001b[0;32m<ipython-input-25-e3ce1dc2b89b>\u001b[0m in \u001b[0;36m<cell line: 1>\u001b[0;34m()\u001b[0m\n\u001b[0;32m----> 1\u001b[0;31m \u001b[0mmodel\u001b[0m \u001b[0;34m=\u001b[0m \u001b[0mals\u001b[0m\u001b[0;34m.\u001b[0m\u001b[0mfit\u001b[0m\u001b[0;34m(\u001b[0m\u001b[0mtrain\u001b[0m\u001b[0;34m)\u001b[0m\u001b[0;34m\u001b[0m\u001b[0;34m\u001b[0m\u001b[0m\n\u001b[0m",
            "\u001b[0;31mNameError\u001b[0m: name 'als' is not defined"
          ]
        }
      ]
    },
    {
      "cell_type": "code",
      "source": [
        "predictions = model.transform(test)"
      ],
      "metadata": {
        "id": "4YLW_Mj8yGYD"
      },
      "execution_count": null,
      "outputs": []
    },
    {
      "cell_type": "code",
      "source": [
        "predictions.show(10)"
      ],
      "metadata": {
        "id": "l3XBWAZhyHf8"
      },
      "execution_count": null,
      "outputs": []
    },
    {
      "cell_type": "code",
      "source": [
        "evaluator = RegressionEvaluator(metricName=\"rmse\", labelCol=\"rating\", predictionCol=\"prediction\")"
      ],
      "metadata": {
        "id": "kIVSbtk4yJqN"
      },
      "execution_count": null,
      "outputs": []
    },
    {
      "cell_type": "code",
      "source": [
        "rmse = evaluator.evaluate(predictions)"
      ],
      "metadata": {
        "id": "HMDTUvVbyK4h"
      },
      "execution_count": null,
      "outputs": []
    },
    {
      "cell_type": "code",
      "source": [
        "print(f\"Root-mean-square error = {rmse}\")"
      ],
      "metadata": {
        "id": "_5NKGhQyyMBT"
      },
      "execution_count": null,
      "outputs": []
    },
    {
      "cell_type": "code",
      "source": [
        "#top 10 movies for each user\n",
        "userRecs = model.recommendForAllUsers(10)"
      ],
      "metadata": {
        "id": "i54vac2OyNb_"
      },
      "execution_count": null,
      "outputs": []
    },
    {
      "cell_type": "code",
      "source": [
        "userRecs.show(10, False)"
      ],
      "metadata": {
        "id": "WgY525pRyOrV"
      },
      "execution_count": null,
      "outputs": []
    },
    {
      "cell_type": "code",
      "source": [
        "#top 10 user for each movie\n",
        "movieRecs = model.recommendForAllItems(10)"
      ],
      "metadata": {
        "id": "RGrHTVVVyP0i"
      },
      "execution_count": null,
      "outputs": []
    },
    {
      "cell_type": "code",
      "source": [
        "movieRecs.show(10, False)"
      ],
      "metadata": {
        "id": "9sM43cAZyQ5J"
      },
      "execution_count": null,
      "outputs": []
    },
    {
      "cell_type": "markdown",
      "source": [
        "##Classification\n",
        "###Decision Trees"
      ],
      "metadata": {
        "id": "kTofA2eX3_b2"
      }
    },
    {
      "cell_type": "code",
      "source": [
        "!unzip train.csv.zip"
      ],
      "metadata": {
        "id": "Y-J-Oh_i4C0j",
        "outputId": "5e490811-0104-47ee-c11b-bab1d8c2c0e0",
        "colab": {
          "base_uri": "https://localhost:8080/"
        }
      },
      "execution_count": null,
      "outputs": [
        {
          "output_type": "stream",
          "name": "stdout",
          "text": [
            "unzip:  cannot find or open train.csv.zip, train.csv.zip.zip or train.csv.zip.ZIP.\n"
          ]
        }
      ]
    },
    {
      "cell_type": "code",
      "source": [
        "data = spark.read.csv(\"train.csv\", header=True, inferSchema=True, sep=\",\")"
      ],
      "metadata": {
        "id": "BbMlgg9X4Efn"
      },
      "execution_count": null,
      "outputs": []
    },
    {
      "cell_type": "code",
      "source": [
        "data.show(10)"
      ],
      "metadata": {
        "id": "DJUoJiqW4FrR",
        "outputId": "0fdd9713-3a24-4039-c313-48a7dcdf21bd",
        "colab": {
          "base_uri": "https://localhost:8080/"
        }
      },
      "execution_count": null,
      "outputs": [
        {
          "output_type": "stream",
          "name": "stdout",
          "text": [
            "+---+---------+------+-----+--------------------------------+------------------------------+-------------------------------+-------------+--------------+-------------+----------------------------------+----------------+----------------+----------------+----------------+----------+----------+----------+----------+----------+----------+----------+----------+----------+-----------+-----------+-----------+-----------+-----------+-----------+-----------+-----------+-----------+-----------+-----------+-----------+-----------+-----------+-----------+-----------+-----------+-----------+-----------+-----------+-----------+-----------+-----------+-----------+-----------+-----------+-----------+-----------+-----------+-----------+-----------+----------+\n",
            "| Id|Elevation|Aspect|Slope|Horizontal_Distance_To_Hydrology|Vertical_Distance_To_Hydrology|Horizontal_Distance_To_Roadways|Hillshade_9am|Hillshade_Noon|Hillshade_3pm|Horizontal_Distance_To_Fire_Points|Wilderness_Area1|Wilderness_Area2|Wilderness_Area3|Wilderness_Area4|Soil_Type1|Soil_Type2|Soil_Type3|Soil_Type4|Soil_Type5|Soil_Type6|Soil_Type7|Soil_Type8|Soil_Type9|Soil_Type10|Soil_Type11|Soil_Type12|Soil_Type13|Soil_Type14|Soil_Type15|Soil_Type16|Soil_Type17|Soil_Type18|Soil_Type19|Soil_Type20|Soil_Type21|Soil_Type22|Soil_Type23|Soil_Type24|Soil_Type25|Soil_Type26|Soil_Type27|Soil_Type28|Soil_Type29|Soil_Type30|Soil_Type31|Soil_Type32|Soil_Type33|Soil_Type34|Soil_Type35|Soil_Type36|Soil_Type37|Soil_Type38|Soil_Type39|Soil_Type40|Cover_Type|\n",
            "+---+---------+------+-----+--------------------------------+------------------------------+-------------------------------+-------------+--------------+-------------+----------------------------------+----------------+----------------+----------------+----------------+----------+----------+----------+----------+----------+----------+----------+----------+----------+-----------+-----------+-----------+-----------+-----------+-----------+-----------+-----------+-----------+-----------+-----------+-----------+-----------+-----------+-----------+-----------+-----------+-----------+-----------+-----------+-----------+-----------+-----------+-----------+-----------+-----------+-----------+-----------+-----------+-----------+-----------+----------+\n",
            "|  1|     2596|    51|    3|                             258|                             0|                            510|          221|           232|          148|                              6279|               1|               0|               0|               0|         0|         0|         0|         0|         0|         0|         0|         0|         0|          0|          0|          0|          0|          0|          0|          0|          0|          0|          0|          0|          0|          0|          0|          0|          0|          0|          0|          0|          1|          0|          0|          0|          0|          0|          0|          0|          0|          0|          0|          0|         5|\n",
            "|  2|     2590|    56|    2|                             212|                            -6|                            390|          220|           235|          151|                              6225|               1|               0|               0|               0|         0|         0|         0|         0|         0|         0|         0|         0|         0|          0|          0|          0|          0|          0|          0|          0|          0|          0|          0|          0|          0|          0|          0|          0|          0|          0|          0|          0|          1|          0|          0|          0|          0|          0|          0|          0|          0|          0|          0|          0|         5|\n",
            "|  3|     2804|   139|    9|                             268|                            65|                           3180|          234|           238|          135|                              6121|               1|               0|               0|               0|         0|         0|         0|         0|         0|         0|         0|         0|         0|          0|          0|          1|          0|          0|          0|          0|          0|          0|          0|          0|          0|          0|          0|          0|          0|          0|          0|          0|          0|          0|          0|          0|          0|          0|          0|          0|          0|          0|          0|          0|         2|\n",
            "|  4|     2785|   155|   18|                             242|                           118|                           3090|          238|           238|          122|                              6211|               1|               0|               0|               0|         0|         0|         0|         0|         0|         0|         0|         0|         0|          0|          0|          0|          0|          0|          0|          0|          0|          0|          0|          0|          0|          0|          0|          0|          0|          0|          0|          0|          0|          1|          0|          0|          0|          0|          0|          0|          0|          0|          0|          0|         2|\n",
            "|  5|     2595|    45|    2|                             153|                            -1|                            391|          220|           234|          150|                              6172|               1|               0|               0|               0|         0|         0|         0|         0|         0|         0|         0|         0|         0|          0|          0|          0|          0|          0|          0|          0|          0|          0|          0|          0|          0|          0|          0|          0|          0|          0|          0|          0|          1|          0|          0|          0|          0|          0|          0|          0|          0|          0|          0|          0|         5|\n",
            "|  6|     2579|   132|    6|                             300|                           -15|                             67|          230|           237|          140|                              6031|               1|               0|               0|               0|         0|         0|         0|         0|         0|         0|         0|         0|         0|          0|          0|          0|          0|          0|          0|          0|          0|          0|          0|          0|          0|          0|          0|          0|          0|          0|          0|          0|          1|          0|          0|          0|          0|          0|          0|          0|          0|          0|          0|          0|         2|\n",
            "|  7|     2606|    45|    7|                             270|                             5|                            633|          222|           225|          138|                              6256|               1|               0|               0|               0|         0|         0|         0|         0|         0|         0|         0|         0|         0|          0|          0|          0|          0|          0|          0|          0|          0|          0|          0|          0|          0|          0|          0|          0|          0|          0|          0|          0|          1|          0|          0|          0|          0|          0|          0|          0|          0|          0|          0|          0|         5|\n",
            "|  8|     2605|    49|    4|                             234|                             7|                            573|          222|           230|          144|                              6228|               1|               0|               0|               0|         0|         0|         0|         0|         0|         0|         0|         0|         0|          0|          0|          0|          0|          0|          0|          0|          0|          0|          0|          0|          0|          0|          0|          0|          0|          0|          0|          0|          1|          0|          0|          0|          0|          0|          0|          0|          0|          0|          0|          0|         5|\n",
            "|  9|     2617|    45|    9|                             240|                            56|                            666|          223|           221|          133|                              6244|               1|               0|               0|               0|         0|         0|         0|         0|         0|         0|         0|         0|         0|          0|          0|          0|          0|          0|          0|          0|          0|          0|          0|          0|          0|          0|          0|          0|          0|          0|          0|          0|          1|          0|          0|          0|          0|          0|          0|          0|          0|          0|          0|          0|         5|\n",
            "| 10|     2612|    59|   10|                             247|                            11|                            636|          228|           219|          124|                              6230|               1|               0|               0|               0|         0|         0|         0|         0|         0|         0|         0|         0|         0|          0|          0|          0|          0|          0|          0|          0|          0|          0|          0|          0|          0|          0|          0|          0|          0|          0|          0|          0|          1|          0|          0|          0|          0|          0|          0|          0|          0|          0|          0|          0|         5|\n",
            "+---+---------+------+-----+--------------------------------+------------------------------+-------------------------------+-------------+--------------+-------------+----------------------------------+----------------+----------------+----------------+----------------+----------+----------+----------+----------+----------+----------+----------+----------+----------+-----------+-----------+-----------+-----------+-----------+-----------+-----------+-----------+-----------+-----------+-----------+-----------+-----------+-----------+-----------+-----------+-----------+-----------+-----------+-----------+-----------+-----------+-----------+-----------+-----------+-----------+-----------+-----------+-----------+-----------+-----------+----------+\n",
            "only showing top 10 rows\n",
            "\n"
          ]
        }
      ]
    },
    {
      "cell_type": "code",
      "source": [
        "(train, test) = data.randomSplit([0.8, 0.2])"
      ],
      "metadata": {
        "id": "I7jxe1mMC23a"
      },
      "execution_count": null,
      "outputs": []
    },
    {
      "cell_type": "markdown",
      "source": [
        "|y|x1|x2|x3\n",
        "|-|-|-|-|\n",
        "|5|1|2|3|\n",
        "|3|5|6|7|\n",
        "\n",
        "|y|X_i|\n",
        "|-|---|\n",
        "|5|[1,2,3]|\n",
        "|3|[5,6,7]|"
      ],
      "metadata": {
        "id": "eoyHaEjk45--"
      }
    },
    {
      "cell_type": "code",
      "source": [
        "from pyspark.ml.feature import VectorAssembler\n",
        "assembler = VectorAssembler(inputCols=[x for x in data.columns if x not in ['Id', 'Cover_Type']], outputCol='features')"
      ],
      "metadata": {
        "id": "zTCMkUyQ4Gq1"
      },
      "execution_count": null,
      "outputs": []
    },
    {
      "cell_type": "code",
      "source": [
        "df_assemled_preview = assembler.transform(train)"
      ],
      "metadata": {
        "id": "Ti-vYAWp4IEZ"
      },
      "execution_count": null,
      "outputs": []
    },
    {
      "cell_type": "code",
      "source": [
        "df_assemled_preview.show(10)"
      ],
      "metadata": {
        "id": "QykXzwgi4Jcj",
        "outputId": "bbeb037e-e257-4d74-dc70-aff6d9818086",
        "colab": {
          "base_uri": "https://localhost:8080/"
        }
      },
      "execution_count": null,
      "outputs": [
        {
          "output_type": "stream",
          "name": "stdout",
          "text": [
            "+---+---------+------+-----+--------------------------------+------------------------------+-------------------------------+-------------+--------------+-------------+----------------------------------+----------------+----------------+----------------+----------------+----------+----------+----------+----------+----------+----------+----------+----------+----------+-----------+-----------+-----------+-----------+-----------+-----------+-----------+-----------+-----------+-----------+-----------+-----------+-----------+-----------+-----------+-----------+-----------+-----------+-----------+-----------+-----------+-----------+-----------+-----------+-----------+-----------+-----------+-----------+-----------+-----------+-----------+----------+--------------------+\n",
            "| Id|Elevation|Aspect|Slope|Horizontal_Distance_To_Hydrology|Vertical_Distance_To_Hydrology|Horizontal_Distance_To_Roadways|Hillshade_9am|Hillshade_Noon|Hillshade_3pm|Horizontal_Distance_To_Fire_Points|Wilderness_Area1|Wilderness_Area2|Wilderness_Area3|Wilderness_Area4|Soil_Type1|Soil_Type2|Soil_Type3|Soil_Type4|Soil_Type5|Soil_Type6|Soil_Type7|Soil_Type8|Soil_Type9|Soil_Type10|Soil_Type11|Soil_Type12|Soil_Type13|Soil_Type14|Soil_Type15|Soil_Type16|Soil_Type17|Soil_Type18|Soil_Type19|Soil_Type20|Soil_Type21|Soil_Type22|Soil_Type23|Soil_Type24|Soil_Type25|Soil_Type26|Soil_Type27|Soil_Type28|Soil_Type29|Soil_Type30|Soil_Type31|Soil_Type32|Soil_Type33|Soil_Type34|Soil_Type35|Soil_Type36|Soil_Type37|Soil_Type38|Soil_Type39|Soil_Type40|Cover_Type|            features|\n",
            "+---+---------+------+-----+--------------------------------+------------------------------+-------------------------------+-------------+--------------+-------------+----------------------------------+----------------+----------------+----------------+----------------+----------+----------+----------+----------+----------+----------+----------+----------+----------+-----------+-----------+-----------+-----------+-----------+-----------+-----------+-----------+-----------+-----------+-----------+-----------+-----------+-----------+-----------+-----------+-----------+-----------+-----------+-----------+-----------+-----------+-----------+-----------+-----------+-----------+-----------+-----------+-----------+-----------+-----------+----------+--------------------+\n",
            "|  1|     2596|    51|    3|                             258|                             0|                            510|          221|           232|          148|                              6279|               1|               0|               0|               0|         0|         0|         0|         0|         0|         0|         0|         0|         0|          0|          0|          0|          0|          0|          0|          0|          0|          0|          0|          0|          0|          0|          0|          0|          0|          0|          0|          0|          1|          0|          0|          0|          0|          0|          0|          0|          0|          0|          0|          0|         5|(54,[0,1,2,3,5,6,...|\n",
            "|  2|     2590|    56|    2|                             212|                            -6|                            390|          220|           235|          151|                              6225|               1|               0|               0|               0|         0|         0|         0|         0|         0|         0|         0|         0|         0|          0|          0|          0|          0|          0|          0|          0|          0|          0|          0|          0|          0|          0|          0|          0|          0|          0|          0|          0|          1|          0|          0|          0|          0|          0|          0|          0|          0|          0|          0|          0|         5|(54,[0,1,2,3,4,5,...|\n",
            "|  3|     2804|   139|    9|                             268|                            65|                           3180|          234|           238|          135|                              6121|               1|               0|               0|               0|         0|         0|         0|         0|         0|         0|         0|         0|         0|          0|          0|          1|          0|          0|          0|          0|          0|          0|          0|          0|          0|          0|          0|          0|          0|          0|          0|          0|          0|          0|          0|          0|          0|          0|          0|          0|          0|          0|          0|          0|         2|(54,[0,1,2,3,4,5,...|\n",
            "|  4|     2785|   155|   18|                             242|                           118|                           3090|          238|           238|          122|                              6211|               1|               0|               0|               0|         0|         0|         0|         0|         0|         0|         0|         0|         0|          0|          0|          0|          0|          0|          0|          0|          0|          0|          0|          0|          0|          0|          0|          0|          0|          0|          0|          0|          0|          1|          0|          0|          0|          0|          0|          0|          0|          0|          0|          0|         2|(54,[0,1,2,3,4,5,...|\n",
            "|  5|     2595|    45|    2|                             153|                            -1|                            391|          220|           234|          150|                              6172|               1|               0|               0|               0|         0|         0|         0|         0|         0|         0|         0|         0|         0|          0|          0|          0|          0|          0|          0|          0|          0|          0|          0|          0|          0|          0|          0|          0|          0|          0|          0|          0|          1|          0|          0|          0|          0|          0|          0|          0|          0|          0|          0|          0|         5|(54,[0,1,2,3,4,5,...|\n",
            "|  6|     2579|   132|    6|                             300|                           -15|                             67|          230|           237|          140|                              6031|               1|               0|               0|               0|         0|         0|         0|         0|         0|         0|         0|         0|         0|          0|          0|          0|          0|          0|          0|          0|          0|          0|          0|          0|          0|          0|          0|          0|          0|          0|          0|          0|          1|          0|          0|          0|          0|          0|          0|          0|          0|          0|          0|          0|         2|(54,[0,1,2,3,4,5,...|\n",
            "|  7|     2606|    45|    7|                             270|                             5|                            633|          222|           225|          138|                              6256|               1|               0|               0|               0|         0|         0|         0|         0|         0|         0|         0|         0|         0|          0|          0|          0|          0|          0|          0|          0|          0|          0|          0|          0|          0|          0|          0|          0|          0|          0|          0|          0|          1|          0|          0|          0|          0|          0|          0|          0|          0|          0|          0|          0|         5|(54,[0,1,2,3,4,5,...|\n",
            "|  8|     2605|    49|    4|                             234|                             7|                            573|          222|           230|          144|                              6228|               1|               0|               0|               0|         0|         0|         0|         0|         0|         0|         0|         0|         0|          0|          0|          0|          0|          0|          0|          0|          0|          0|          0|          0|          0|          0|          0|          0|          0|          0|          0|          0|          1|          0|          0|          0|          0|          0|          0|          0|          0|          0|          0|          0|         5|(54,[0,1,2,3,4,5,...|\n",
            "|  9|     2617|    45|    9|                             240|                            56|                            666|          223|           221|          133|                              6244|               1|               0|               0|               0|         0|         0|         0|         0|         0|         0|         0|         0|         0|          0|          0|          0|          0|          0|          0|          0|          0|          0|          0|          0|          0|          0|          0|          0|          0|          0|          0|          0|          1|          0|          0|          0|          0|          0|          0|          0|          0|          0|          0|          0|         5|(54,[0,1,2,3,4,5,...|\n",
            "| 10|     2612|    59|   10|                             247|                            11|                            636|          228|           219|          124|                              6230|               1|               0|               0|               0|         0|         0|         0|         0|         0|         0|         0|         0|         0|          0|          0|          0|          0|          0|          0|          0|          0|          0|          0|          0|          0|          0|          0|          0|          0|          0|          0|          0|          1|          0|          0|          0|          0|          0|          0|          0|          0|          0|          0|          0|         5|(54,[0,1,2,3,4,5,...|\n",
            "+---+---------+------+-----+--------------------------------+------------------------------+-------------------------------+-------------+--------------+-------------+----------------------------------+----------------+----------------+----------------+----------------+----------+----------+----------+----------+----------+----------+----------+----------+----------+-----------+-----------+-----------+-----------+-----------+-----------+-----------+-----------+-----------+-----------+-----------+-----------+-----------+-----------+-----------+-----------+-----------+-----------+-----------+-----------+-----------+-----------+-----------+-----------+-----------+-----------+-----------+-----------+-----------+-----------+-----------+----------+--------------------+\n",
            "only showing top 10 rows\n",
            "\n"
          ]
        }
      ]
    },
    {
      "cell_type": "code",
      "source": [
        "df_assemled_preview.rdd.take(1)"
      ],
      "metadata": {
        "id": "kBR1WIH54KlZ",
        "outputId": "2e8a12f8-8798-410c-b1df-0b5991dc7a53",
        "colab": {
          "base_uri": "https://localhost:8080/"
        }
      },
      "execution_count": null,
      "outputs": [
        {
          "output_type": "execute_result",
          "data": {
            "text/plain": [
              "[Row(Id=1, Elevation=2596, Aspect=51, Slope=3, Horizontal_Distance_To_Hydrology=258, Vertical_Distance_To_Hydrology=0, Horizontal_Distance_To_Roadways=510, Hillshade_9am=221, Hillshade_Noon=232, Hillshade_3pm=148, Horizontal_Distance_To_Fire_Points=6279, Wilderness_Area1=1, Wilderness_Area2=0, Wilderness_Area3=0, Wilderness_Area4=0, Soil_Type1=0, Soil_Type2=0, Soil_Type3=0, Soil_Type4=0, Soil_Type5=0, Soil_Type6=0, Soil_Type7=0, Soil_Type8=0, Soil_Type9=0, Soil_Type10=0, Soil_Type11=0, Soil_Type12=0, Soil_Type13=0, Soil_Type14=0, Soil_Type15=0, Soil_Type16=0, Soil_Type17=0, Soil_Type18=0, Soil_Type19=0, Soil_Type20=0, Soil_Type21=0, Soil_Type22=0, Soil_Type23=0, Soil_Type24=0, Soil_Type25=0, Soil_Type26=0, Soil_Type27=0, Soil_Type28=0, Soil_Type29=1, Soil_Type30=0, Soil_Type31=0, Soil_Type32=0, Soil_Type33=0, Soil_Type34=0, Soil_Type35=0, Soil_Type36=0, Soil_Type37=0, Soil_Type38=0, Soil_Type39=0, Soil_Type40=0, Cover_Type=5, features=SparseVector(54, {0: 2596.0, 1: 51.0, 2: 3.0, 3: 258.0, 5: 510.0, 6: 221.0, 7: 232.0, 8: 148.0, 9: 6279.0, 10: 1.0, 42: 1.0}))]"
            ]
          },
          "metadata": {},
          "execution_count": 35
        }
      ]
    },
    {
      "cell_type": "code",
      "source": [
        "from pyspark.ml.feature import StringIndexer\n",
        "labelIndexer = StringIndexer(inputCol='Cover_Type', outputCol='label').fit(data)"
      ],
      "metadata": {
        "id": "wD9Jrewx4OKz"
      },
      "execution_count": null,
      "outputs": []
    },
    {
      "cell_type": "code",
      "source": [
        "df_indexed_prview = labelIndexer.transform(train)\n",
        "df_indexed_prview.show(10)"
      ],
      "metadata": {
        "id": "SyiBseKjDBeK",
        "outputId": "d2fafb37-8b9f-43fd-dbb7-923ccce8b67a",
        "colab": {
          "base_uri": "https://localhost:8080/"
        }
      },
      "execution_count": null,
      "outputs": [
        {
          "output_type": "stream",
          "name": "stdout",
          "text": [
            "+---+---------+------+-----+--------------------------------+------------------------------+-------------------------------+-------------+--------------+-------------+----------------------------------+----------------+----------------+----------------+----------------+----------+----------+----------+----------+----------+----------+----------+----------+----------+-----------+-----------+-----------+-----------+-----------+-----------+-----------+-----------+-----------+-----------+-----------+-----------+-----------+-----------+-----------+-----------+-----------+-----------+-----------+-----------+-----------+-----------+-----------+-----------+-----------+-----------+-----------+-----------+-----------+-----------+-----------+----------+-----+\n",
            "| Id|Elevation|Aspect|Slope|Horizontal_Distance_To_Hydrology|Vertical_Distance_To_Hydrology|Horizontal_Distance_To_Roadways|Hillshade_9am|Hillshade_Noon|Hillshade_3pm|Horizontal_Distance_To_Fire_Points|Wilderness_Area1|Wilderness_Area2|Wilderness_Area3|Wilderness_Area4|Soil_Type1|Soil_Type2|Soil_Type3|Soil_Type4|Soil_Type5|Soil_Type6|Soil_Type7|Soil_Type8|Soil_Type9|Soil_Type10|Soil_Type11|Soil_Type12|Soil_Type13|Soil_Type14|Soil_Type15|Soil_Type16|Soil_Type17|Soil_Type18|Soil_Type19|Soil_Type20|Soil_Type21|Soil_Type22|Soil_Type23|Soil_Type24|Soil_Type25|Soil_Type26|Soil_Type27|Soil_Type28|Soil_Type29|Soil_Type30|Soil_Type31|Soil_Type32|Soil_Type33|Soil_Type34|Soil_Type35|Soil_Type36|Soil_Type37|Soil_Type38|Soil_Type39|Soil_Type40|Cover_Type|label|\n",
            "+---+---------+------+-----+--------------------------------+------------------------------+-------------------------------+-------------+--------------+-------------+----------------------------------+----------------+----------------+----------------+----------------+----------+----------+----------+----------+----------+----------+----------+----------+----------+-----------+-----------+-----------+-----------+-----------+-----------+-----------+-----------+-----------+-----------+-----------+-----------+-----------+-----------+-----------+-----------+-----------+-----------+-----------+-----------+-----------+-----------+-----------+-----------+-----------+-----------+-----------+-----------+-----------+-----------+-----------+----------+-----+\n",
            "|  1|     2596|    51|    3|                             258|                             0|                            510|          221|           232|          148|                              6279|               1|               0|               0|               0|         0|         0|         0|         0|         0|         0|         0|         0|         0|          0|          0|          0|          0|          0|          0|          0|          0|          0|          0|          0|          0|          0|          0|          0|          0|          0|          0|          0|          1|          0|          0|          0|          0|          0|          0|          0|          0|          0|          0|          0|         5|  4.0|\n",
            "|  2|     2590|    56|    2|                             212|                            -6|                            390|          220|           235|          151|                              6225|               1|               0|               0|               0|         0|         0|         0|         0|         0|         0|         0|         0|         0|          0|          0|          0|          0|          0|          0|          0|          0|          0|          0|          0|          0|          0|          0|          0|          0|          0|          0|          0|          1|          0|          0|          0|          0|          0|          0|          0|          0|          0|          0|          0|         5|  4.0|\n",
            "|  3|     2804|   139|    9|                             268|                            65|                           3180|          234|           238|          135|                              6121|               1|               0|               0|               0|         0|         0|         0|         0|         0|         0|         0|         0|         0|          0|          0|          1|          0|          0|          0|          0|          0|          0|          0|          0|          0|          0|          0|          0|          0|          0|          0|          0|          0|          0|          0|          0|          0|          0|          0|          0|          0|          0|          0|          0|         2|  1.0|\n",
            "|  4|     2785|   155|   18|                             242|                           118|                           3090|          238|           238|          122|                              6211|               1|               0|               0|               0|         0|         0|         0|         0|         0|         0|         0|         0|         0|          0|          0|          0|          0|          0|          0|          0|          0|          0|          0|          0|          0|          0|          0|          0|          0|          0|          0|          0|          0|          1|          0|          0|          0|          0|          0|          0|          0|          0|          0|          0|         2|  1.0|\n",
            "|  5|     2595|    45|    2|                             153|                            -1|                            391|          220|           234|          150|                              6172|               1|               0|               0|               0|         0|         0|         0|         0|         0|         0|         0|         0|         0|          0|          0|          0|          0|          0|          0|          0|          0|          0|          0|          0|          0|          0|          0|          0|          0|          0|          0|          0|          1|          0|          0|          0|          0|          0|          0|          0|          0|          0|          0|          0|         5|  4.0|\n",
            "|  6|     2579|   132|    6|                             300|                           -15|                             67|          230|           237|          140|                              6031|               1|               0|               0|               0|         0|         0|         0|         0|         0|         0|         0|         0|         0|          0|          0|          0|          0|          0|          0|          0|          0|          0|          0|          0|          0|          0|          0|          0|          0|          0|          0|          0|          1|          0|          0|          0|          0|          0|          0|          0|          0|          0|          0|          0|         2|  1.0|\n",
            "|  7|     2606|    45|    7|                             270|                             5|                            633|          222|           225|          138|                              6256|               1|               0|               0|               0|         0|         0|         0|         0|         0|         0|         0|         0|         0|          0|          0|          0|          0|          0|          0|          0|          0|          0|          0|          0|          0|          0|          0|          0|          0|          0|          0|          0|          1|          0|          0|          0|          0|          0|          0|          0|          0|          0|          0|          0|         5|  4.0|\n",
            "|  8|     2605|    49|    4|                             234|                             7|                            573|          222|           230|          144|                              6228|               1|               0|               0|               0|         0|         0|         0|         0|         0|         0|         0|         0|         0|          0|          0|          0|          0|          0|          0|          0|          0|          0|          0|          0|          0|          0|          0|          0|          0|          0|          0|          0|          1|          0|          0|          0|          0|          0|          0|          0|          0|          0|          0|          0|         5|  4.0|\n",
            "|  9|     2617|    45|    9|                             240|                            56|                            666|          223|           221|          133|                              6244|               1|               0|               0|               0|         0|         0|         0|         0|         0|         0|         0|         0|         0|          0|          0|          0|          0|          0|          0|          0|          0|          0|          0|          0|          0|          0|          0|          0|          0|          0|          0|          0|          1|          0|          0|          0|          0|          0|          0|          0|          0|          0|          0|          0|         5|  4.0|\n",
            "| 10|     2612|    59|   10|                             247|                            11|                            636|          228|           219|          124|                              6230|               1|               0|               0|               0|         0|         0|         0|         0|         0|         0|         0|         0|         0|          0|          0|          0|          0|          0|          0|          0|          0|          0|          0|          0|          0|          0|          0|          0|          0|          0|          0|          0|          1|          0|          0|          0|          0|          0|          0|          0|          0|          0|          0|          0|         5|  4.0|\n",
            "+---+---------+------+-----+--------------------------------+------------------------------+-------------------------------+-------------+--------------+-------------+----------------------------------+----------------+----------------+----------------+----------------+----------+----------+----------+----------+----------+----------+----------+----------+----------+-----------+-----------+-----------+-----------+-----------+-----------+-----------+-----------+-----------+-----------+-----------+-----------+-----------+-----------+-----------+-----------+-----------+-----------+-----------+-----------+-----------+-----------+-----------+-----------+-----------+-----------+-----------+-----------+-----------+-----------+-----------+----------+-----+\n",
            "only showing top 10 rows\n",
            "\n"
          ]
        }
      ]
    },
    {
      "cell_type": "code",
      "source": [
        "from pyspark.ml.classification import DecisionTreeClassifier"
      ],
      "metadata": {
        "id": "KxLbHPN84PG0"
      },
      "execution_count": null,
      "outputs": []
    },
    {
      "cell_type": "code",
      "source": [
        "dt = DecisionTreeClassifier(impurity='gini',\n",
        "                            maxDepth=5,\n",
        "                            maxBins=32,\n",
        "                            featuresCol='features',\n",
        "                            labelCol='label')"
      ],
      "metadata": {
        "id": "zMF-xqzB4QNo"
      },
      "execution_count": null,
      "outputs": []
    },
    {
      "cell_type": "code",
      "source": [
        "from pyspark.ml import Pipeline"
      ],
      "metadata": {
        "id": "DpCJLNyY4RII"
      },
      "execution_count": null,
      "outputs": []
    },
    {
      "cell_type": "code",
      "source": [
        "pipeline = Pipeline(stages=[assembler, labelIndexer, dt])"
      ],
      "metadata": {
        "id": "V0NRjjyG4SA1"
      },
      "execution_count": null,
      "outputs": []
    },
    {
      "cell_type": "code",
      "source": [
        "model_pipeline = pipeline.fit(train)"
      ],
      "metadata": {
        "id": "s6G_iuyM4TLb"
      },
      "execution_count": null,
      "outputs": []
    },
    {
      "cell_type": "code",
      "source": [
        "model_pipeline.stages"
      ],
      "metadata": {
        "id": "sm3mMoTADGXT",
        "outputId": "b94c9ab3-3d92-4af6-84a3-784e9555c6e8",
        "colab": {
          "base_uri": "https://localhost:8080/"
        }
      },
      "execution_count": null,
      "outputs": [
        {
          "output_type": "execute_result",
          "data": {
            "text/plain": [
              "[VectorAssembler_04b187e21bd1,\n",
              " StringIndexerModel: uid=StringIndexer_8d7e8eb0102f, handleInvalid=error,\n",
              " DecisionTreeClassificationModel: uid=DecisionTreeClassifier_e6970620f641, depth=5, numNodes=55, numClasses=7, numFeatures=54]"
            ]
          },
          "metadata": {},
          "execution_count": 43
        }
      ]
    },
    {
      "cell_type": "code",
      "source": [
        "treeModel = model_pipeline.stages[2]"
      ],
      "metadata": {
        "id": "cGJPoVTv4VEV"
      },
      "execution_count": null,
      "outputs": []
    },
    {
      "cell_type": "code",
      "source": [
        "treeModel"
      ],
      "metadata": {
        "id": "_a3u4FdQ4WFB",
        "outputId": "2210a659-50c0-4c5f-d3bb-dd6107d49350",
        "colab": {
          "base_uri": "https://localhost:8080/"
        }
      },
      "execution_count": null,
      "outputs": [
        {
          "output_type": "execute_result",
          "data": {
            "text/plain": [
              "DecisionTreeClassificationModel: uid=DecisionTreeClassifier_e6970620f641, depth=5, numNodes=55, numClasses=7, numFeatures=54"
            ]
          },
          "metadata": {},
          "execution_count": 45
        }
      ]
    },
    {
      "cell_type": "code",
      "source": [
        "print(treeModel.toDebugString)"
      ],
      "metadata": {
        "id": "H2tr6ir_4XD8",
        "outputId": "c7f88f56-a418-4243-bd4c-12430f6d392b",
        "colab": {
          "base_uri": "https://localhost:8080/"
        }
      },
      "execution_count": null,
      "outputs": [
        {
          "output_type": "stream",
          "name": "stdout",
          "text": [
            "DecisionTreeClassificationModel: uid=DecisionTreeClassifier_e6970620f641, depth=5, numNodes=55, numClasses=7, numFeatures=54\n",
            "  If (feature 0 <= 2678.5)\n",
            "   If (feature 0 <= 2376.5)\n",
            "    If (feature 6 <= 192.5)\n",
            "     If (feature 3 <= 15.0)\n",
            "      Predict: 3.0\n",
            "     Else (feature 3 > 15.0)\n",
            "      If (feature 30 <= 0.5)\n",
            "       Predict: 2.0\n",
            "      Else (feature 30 > 0.5)\n",
            "       Predict: 3.0\n",
            "    Else (feature 6 > 192.5)\n",
            "     If (feature 3 <= 15.0)\n",
            "      If (feature 12 <= 0.5)\n",
            "       Predict: 3.0\n",
            "      Else (feature 12 > 0.5)\n",
            "       Predict: 5.0\n",
            "     Else (feature 3 > 15.0)\n",
            "      Predict: 3.0\n",
            "   Else (feature 0 > 2376.5)\n",
            "    If (feature 10 <= 0.5)\n",
            "     If (feature 17 <= 0.5)\n",
            "      If (feature 23 <= 0.5)\n",
            "       Predict: 2.0\n",
            "      Else (feature 23 > 0.5)\n",
            "       Predict: 5.0\n",
            "     Else (feature 17 > 0.5)\n",
            "      If (feature 1 <= 86.5)\n",
            "       Predict: 5.0\n",
            "      Else (feature 1 > 86.5)\n",
            "       Predict: 2.0\n",
            "    Else (feature 10 > 0.5)\n",
            "     If (feature 31 <= 0.5)\n",
            "      If (feature 8 <= 80.5)\n",
            "       Predict: 4.0\n",
            "      Else (feature 8 > 80.5)\n",
            "       Predict: 1.0\n",
            "     Else (feature 31 > 0.5)\n",
            "      If (feature 5 <= 970.5)\n",
            "       Predict: 4.0\n",
            "      Else (feature 5 > 970.5)\n",
            "       Predict: 1.0\n",
            "  Else (feature 0 > 2678.5)\n",
            "   If (feature 0 <= 3213.5)\n",
            "    If (feature 0 <= 2941.5)\n",
            "     If (feature 9 <= 2645.0)\n",
            "      Predict: 4.0\n",
            "     Else (feature 9 > 2645.0)\n",
            "      If (feature 17 <= 0.5)\n",
            "       Predict: 1.0\n",
            "      Else (feature 17 > 0.5)\n",
            "       Predict: 4.0\n",
            "    Else (feature 0 > 2941.5)\n",
            "     If (feature 0 <= 3045.5)\n",
            "      If (feature 3 <= 76.0)\n",
            "       Predict: 0.0\n",
            "      Else (feature 3 > 76.0)\n",
            "       Predict: 1.0\n",
            "     Else (feature 0 > 3045.5)\n",
            "      If (feature 7 <= 239.5)\n",
            "       Predict: 0.0\n",
            "      Else (feature 7 > 239.5)\n",
            "       Predict: 1.0\n",
            "   Else (feature 0 > 3213.5)\n",
            "    If (feature 0 <= 3300.5)\n",
            "     If (feature 52 <= 0.5)\n",
            "      If (feature 51 <= 0.5)\n",
            "       Predict: 0.0\n",
            "      Else (feature 51 > 0.5)\n",
            "       Predict: 6.0\n",
            "     Else (feature 52 > 0.5)\n",
            "      If (feature 5 <= 3898.0)\n",
            "       Predict: 6.0\n",
            "      Else (feature 5 > 3898.0)\n",
            "       Predict: 0.0\n",
            "    Else (feature 0 > 3300.5)\n",
            "     If (feature 45 <= 0.5)\n",
            "      Predict: 6.0\n",
            "     Else (feature 45 > 0.5)\n",
            "      If (feature 2 <= 7.5)\n",
            "       Predict: 6.0\n",
            "      Else (feature 2 > 7.5)\n",
            "       Predict: 0.0\n",
            "\n"
          ]
        }
      ]
    },
    {
      "cell_type": "code",
      "source": [
        "predictions = model_pipeline.transform(test)"
      ],
      "metadata": {
        "id": "s6stkr574YK4"
      },
      "execution_count": null,
      "outputs": []
    },
    {
      "cell_type": "code",
      "source": [
        "predictions.show(10, False)"
      ],
      "metadata": {
        "id": "obtsqQRf4Z4x",
        "outputId": "03e527e4-a131-4b22-8831-8addf51f1cc0",
        "colab": {
          "base_uri": "https://localhost:8080/"
        }
      },
      "execution_count": null,
      "outputs": [
        {
          "output_type": "stream",
          "name": "stdout",
          "text": [
            "+---+---------+------+-----+--------------------------------+------------------------------+-------------------------------+-------------+--------------+-------------+----------------------------------+----------------+----------------+----------------+----------------+----------+----------+----------+----------+----------+----------+----------+----------+----------+-----------+-----------+-----------+-----------+-----------+-----------+-----------+-----------+-----------+-----------+-----------+-----------+-----------+-----------+-----------+-----------+-----------+-----------+-----------+-----------+-----------+-----------+-----------+-----------+-----------+-----------+-----------+-----------+-----------+-----------+-----------+----------+------------------------------------------------------------------------------------------------------+-----+---------------------------------+--------------------------------------------------------------------------------------------+----------+\n",
            "|Id |Elevation|Aspect|Slope|Horizontal_Distance_To_Hydrology|Vertical_Distance_To_Hydrology|Horizontal_Distance_To_Roadways|Hillshade_9am|Hillshade_Noon|Hillshade_3pm|Horizontal_Distance_To_Fire_Points|Wilderness_Area1|Wilderness_Area2|Wilderness_Area3|Wilderness_Area4|Soil_Type1|Soil_Type2|Soil_Type3|Soil_Type4|Soil_Type5|Soil_Type6|Soil_Type7|Soil_Type8|Soil_Type9|Soil_Type10|Soil_Type11|Soil_Type12|Soil_Type13|Soil_Type14|Soil_Type15|Soil_Type16|Soil_Type17|Soil_Type18|Soil_Type19|Soil_Type20|Soil_Type21|Soil_Type22|Soil_Type23|Soil_Type24|Soil_Type25|Soil_Type26|Soil_Type27|Soil_Type28|Soil_Type29|Soil_Type30|Soil_Type31|Soil_Type32|Soil_Type33|Soil_Type34|Soil_Type35|Soil_Type36|Soil_Type37|Soil_Type38|Soil_Type39|Soil_Type40|Cover_Type|features                                                                                              |label|rawPrediction                    |probability                                                                                 |prediction|\n",
            "+---+---------+------+-----+--------------------------------+------------------------------+-------------------------------+-------------+--------------+-------------+----------------------------------+----------------+----------------+----------------+----------------+----------+----------+----------+----------+----------+----------+----------+----------+----------+-----------+-----------+-----------+-----------+-----------+-----------+-----------+-----------+-----------+-----------+-----------+-----------+-----------+-----------+-----------+-----------+-----------+-----------+-----------+-----------+-----------+-----------+-----------+-----------+-----------+-----------+-----------+-----------+-----------+-----------+-----------+----------+------------------------------------------------------------------------------------------------------+-----+---------------------------------+--------------------------------------------------------------------------------------------+----------+\n",
            "|39 |2749     |98    |30   |124                             |53                            |3316                           |252          |183           |36           |6005                              |1               |0               |0               |0               |0         |0         |0         |0         |0         |0         |0         |0         |0         |0          |0          |0          |0          |0          |0          |0          |0          |0          |0          |0          |0          |0          |0          |0          |0          |0          |0          |0          |0          |1          |0          |0          |0          |0          |0          |0          |0          |0          |0          |0          |5         |(54,[0,1,2,3,4,5,6,7,8,9,10,43],[2749.0,98.0,30.0,124.0,53.0,3316.0,252.0,183.0,36.0,6005.0,1.0,1.0]) |4.0  |[61.0,188.0,0.0,0.0,21.0,3.0,0.0]|[0.22344322344322345,0.6886446886446886,0.0,0.0,0.07692307692307693,0.01098901098901099,0.0]|1.0       |\n",
            "|43 |2533     |71    |9    |150                             |-3                            |577                            |230          |223           |126          |5552                              |1               |0               |0               |0               |0         |0         |0         |0         |0         |0         |0         |0         |0         |0          |0          |0          |0          |0          |0          |0          |0          |1          |0          |0          |0          |0          |0          |0          |0          |0          |0          |0          |0          |0          |0          |0          |0          |0          |0          |0          |0          |0          |0          |0          |5         |(54,[0,1,2,3,4,5,6,7,8,9,10,31],[2533.0,71.0,9.0,150.0,-3.0,577.0,230.0,223.0,126.0,5552.0,1.0,1.0])  |4.0  |[0.0,5.0,0.0,0.0,37.0,0.0,0.0]   |[0.0,0.11904761904761904,0.0,0.0,0.8809523809523809,0.0,0.0]                                |4.0       |\n",
            "|49 |2498     |66    |6    |95                              |7                             |900                            |227          |227           |135          |5357                              |1               |0               |0               |0               |0         |0         |0         |0         |0         |0         |0         |0         |0         |0          |0          |0          |0          |0          |0          |0          |0          |1          |0          |0          |0          |0          |0          |0          |0          |0          |0          |0          |0          |0          |0          |0          |0          |0          |0          |0          |0          |0          |0          |0          |5         |(54,[0,1,2,3,4,5,6,7,8,9,10,31],[2498.0,66.0,6.0,95.0,7.0,900.0,227.0,227.0,135.0,5357.0,1.0,1.0])    |4.0  |[0.0,5.0,0.0,0.0,37.0,0.0,0.0]   |[0.0,0.11904761904761904,0.0,0.0,0.8809523809523809,0.0,0.0]                                |4.0       |\n",
            "|50 |2489     |100   |7    |85                              |13                            |810                            |232          |231           |131          |5334                              |1               |0               |0               |0               |0         |0         |0         |0         |0         |0         |0         |0         |0         |0          |0          |0          |0          |0          |0          |0          |0          |1          |0          |0          |0          |0          |0          |0          |0          |0          |0          |0          |0          |0          |0          |0          |0          |0          |0          |0          |0          |0          |0          |0          |5         |(54,[0,1,2,3,4,5,6,7,8,9,10,31],[2489.0,100.0,7.0,85.0,13.0,810.0,232.0,231.0,131.0,5334.0,1.0,1.0])  |4.0  |[0.0,5.0,0.0,0.0,37.0,0.0,0.0]   |[0.0,0.11904761904761904,0.0,0.0,0.8809523809523809,0.0,0.0]                                |4.0       |\n",
            "|53 |2696     |72    |2    |30                              |0                             |3271                           |222          |234           |149          |6071                              |1               |0               |0               |0               |0         |0         |0         |0         |0         |0         |0         |0         |0         |0          |0          |0          |0          |0          |0          |0          |0          |0          |0          |0          |0          |0          |0          |0          |0          |0          |0          |0          |0          |1          |0          |0          |0          |0          |0          |0          |0          |0          |0          |0          |1         |(54,[0,1,2,3,5,6,7,8,9,10,43],[2696.0,72.0,2.0,30.0,3271.0,222.0,234.0,149.0,6071.0,1.0,1.0])         |0.0  |[61.0,188.0,0.0,0.0,21.0,3.0,0.0]|[0.22344322344322345,0.6886446886446886,0.0,0.0,0.07692307692307693,0.01098901098901099,0.0]|1.0       |\n",
            "|56 |2722     |315   |24   |30                              |19                            |3216                           |148          |212           |200          |6132                              |1               |0               |0               |0               |0         |0         |0         |0         |0         |0         |0         |0         |0         |0          |0          |0          |0          |0          |0          |1          |0          |0          |0          |0          |0          |0          |0          |0          |0          |0          |0          |0          |0          |0          |0          |0          |0          |0          |0          |0          |0          |0          |0          |0          |1         |(54,[0,1,2,3,4,5,6,7,8,9,10,29],[2722.0,315.0,24.0,30.0,19.0,3216.0,148.0,212.0,200.0,6132.0,1.0,1.0])|0.0  |[61.0,188.0,0.0,0.0,21.0,3.0,0.0]|[0.22344322344322345,0.6886446886446886,0.0,0.0,0.07692307692307693,0.01098901098901099,0.0]|1.0       |\n",
            "|57 |2500     |74    |11   |190                             |9                             |930                            |233          |219           |116          |5279                              |1               |0               |0               |0               |0         |0         |0         |0         |0         |0         |0         |0         |0         |0          |0          |0          |0          |0          |0          |0          |0          |1          |0          |0          |0          |0          |0          |0          |0          |0          |0          |0          |0          |0          |0          |0          |0          |0          |0          |0          |0          |0          |0          |0          |5         |(54,[0,1,2,3,4,5,6,7,8,9,10,31],[2500.0,74.0,11.0,190.0,9.0,930.0,233.0,219.0,116.0,5279.0,1.0,1.0])  |4.0  |[0.0,5.0,0.0,0.0,37.0,0.0,0.0]   |[0.0,0.11904761904761904,0.0,0.0,0.8809523809523809,0.0,0.0]                                |4.0       |\n",
            "|69 |2740     |54    |6    |218                             |42                            |2287                           |224          |227           |138          |6686                              |1               |0               |0               |0               |0         |0         |0         |0         |0         |0         |0         |0         |0         |0          |0          |1          |0          |0          |0          |0          |0          |0          |0          |0          |0          |0          |0          |0          |0          |0          |0          |0          |0          |0          |0          |0          |0          |0          |0          |0          |0          |0          |0          |0          |2         |(54,[0,1,2,3,4,5,6,7,8,9,10,25],[2740.0,54.0,6.0,218.0,42.0,2287.0,224.0,227.0,138.0,6686.0,1.0,1.0]) |1.0  |[61.0,188.0,0.0,0.0,21.0,3.0,0.0]|[0.22344322344322345,0.6886446886446886,0.0,0.0,0.07692307692307693,0.01098901098901099,0.0]|1.0       |\n",
            "|70 |2640     |80    |8    |180                             |-2                            |1092                           |231          |225           |127          |5866                              |1               |0               |0               |0               |0         |0         |0         |0         |0         |0         |0         |0         |0         |0          |0          |0          |0          |0          |0          |0          |0          |0          |0          |0          |0          |0          |0          |0          |0          |0          |0          |0          |1          |0          |0          |0          |0          |0          |0          |0          |0          |0          |0          |0          |2         |(54,[0,1,2,3,4,5,6,7,8,9,10,42],[2640.0,80.0,8.0,180.0,-2.0,1092.0,231.0,225.0,127.0,5866.0,1.0,1.0]) |1.0  |[2.0,94.0,0.0,0.0,18.0,0.0,0.0]  |[0.017543859649122806,0.8245614035087719,0.0,0.0,0.15789473684210525,0.0,0.0]               |1.0       |\n",
            "|74 |2850     |6     |9    |0                               |0                             |4858                           |210          |223           |151          |4548                              |1               |0               |0               |0               |0         |0         |0         |0         |0         |0         |0         |0         |0         |0          |0          |0          |0          |0          |0          |1          |0          |0          |0          |0          |0          |0          |0          |0          |0          |0          |0          |0          |0          |0          |0          |0          |0          |0          |0          |0          |0          |0          |0          |0          |2         |(54,[0,1,2,5,6,7,8,9,10,29],[2850.0,6.0,9.0,4858.0,210.0,223.0,151.0,4548.0,1.0,1.0])                 |1.0  |[61.0,188.0,0.0,0.0,21.0,3.0,0.0]|[0.22344322344322345,0.6886446886446886,0.0,0.0,0.07692307692307693,0.01098901098901099,0.0]|1.0       |\n",
            "+---+---------+------+-----+--------------------------------+------------------------------+-------------------------------+-------------+--------------+-------------+----------------------------------+----------------+----------------+----------------+----------------+----------+----------+----------+----------+----------+----------+----------+----------+----------+-----------+-----------+-----------+-----------+-----------+-----------+-----------+-----------+-----------+-----------+-----------+-----------+-----------+-----------+-----------+-----------+-----------+-----------+-----------+-----------+-----------+-----------+-----------+-----------+-----------+-----------+-----------+-----------+-----------+-----------+-----------+----------+------------------------------------------------------------------------------------------------------+-----+---------------------------------+--------------------------------------------------------------------------------------------+----------+\n",
            "only showing top 10 rows\n",
            "\n"
          ]
        }
      ]
    },
    {
      "cell_type": "code",
      "source": [
        "from pyspark.ml.evaluation import MulticlassClassificationEvaluator"
      ],
      "metadata": {
        "id": "ME1k9bCp4a8S"
      },
      "execution_count": null,
      "outputs": []
    },
    {
      "cell_type": "code",
      "source": [
        "evaluator = MulticlassClassificationEvaluator(labelCol=\"label\", predictionCol=\"prediction\", metricName='accuracy')"
      ],
      "metadata": {
        "id": "m9nD7vr64b97"
      },
      "execution_count": null,
      "outputs": []
    },
    {
      "cell_type": "code",
      "source": [
        "accuracy = evaluator.evaluate(predictions)"
      ],
      "metadata": {
        "id": "szG6HwXA4c57"
      },
      "execution_count": null,
      "outputs": []
    },
    {
      "cell_type": "code",
      "source": [
        "print(accuracy)"
      ],
      "metadata": {
        "id": "rZ_zHCp54d6o",
        "outputId": "e2e25541-140f-49d1-9442-d293fa3bba5a",
        "colab": {
          "base_uri": "https://localhost:8080/"
        }
      },
      "execution_count": null,
      "outputs": [
        {
          "output_type": "stream",
          "name": "stdout",
          "text": [
            "0.6497478991596639\n"
          ]
        }
      ]
    },
    {
      "cell_type": "markdown",
      "source": [
        "##Random Forest"
      ],
      "metadata": {
        "id": "VwmEArk566-1"
      }
    },
    {
      "cell_type": "markdown",
      "source": [
        "##Zadanie 8\n",
        "Do tego samego zbioru danych stworz model klasyfikacji oparty na Random Forest (https://spark.apache.org/docs/3.1.1/api/python/reference/api/pyspark.ml.classification.RandomForestClassifier.html). Postaraj się zrobić go w formie \"pipeline\"."
      ],
      "metadata": {
        "id": "BxNrtO7D7RXM"
      }
    },
    {
      "cell_type": "code",
      "source": [
        "#kod"
      ],
      "metadata": {
        "id": "fb-aRPrf69nk"
      },
      "execution_count": null,
      "outputs": []
    },
    {
      "cell_type": "markdown",
      "source": [
        "#Zajęcia 16.05.2022\n",
        "omowic labelConverter + hyperparameter tuning"
      ],
      "metadata": {
        "id": "gzjrIQVwaon0"
      }
    },
    {
      "cell_type": "markdown",
      "source": [
        "##Hyperparameter Tuning"
      ],
      "metadata": {
        "id": "85536XB37pIp"
      }
    },
    {
      "cell_type": "markdown",
      "source": [
        "###Random Forest"
      ],
      "metadata": {
        "id": "uxJY8sbL71FC"
      }
    },
    {
      "cell_type": "code",
      "source": [
        "train.cache()\n",
        "test.cache()"
      ],
      "metadata": {
        "id": "XomQuQVJ7280"
      },
      "execution_count": null,
      "outputs": []
    },
    {
      "cell_type": "code",
      "source": [
        "train.count()\n",
        "test.count()"
      ],
      "metadata": {
        "id": "WRdd7xb475HO"
      },
      "execution_count": null,
      "outputs": []
    },
    {
      "cell_type": "code",
      "source": [
        "from pyspark.ml.tuning import CrossValidator, ParamGridBuilder"
      ],
      "metadata": {
        "id": "OBT3ZL9y76HV"
      },
      "execution_count": null,
      "outputs": []
    },
    {
      "cell_type": "code",
      "source": [
        "paramGrid = (ParamGridBuilder()\n",
        "  .addGrid(rf.numTrees, [10, 20])\n",
        "  .addGrid(rf.maxDepth, [30])\n",
        "  .addGrid(rf.maxBins, [100])\n",
        "  .addGrid(rf.impurity, ['entropy'])\n",
        "  .build()\n",
        ")"
      ],
      "metadata": {
        "id": "7phL0gqI78d-"
      },
      "execution_count": null,
      "outputs": []
    },
    {
      "cell_type": "code",
      "source": [
        "paramGrid"
      ],
      "metadata": {
        "id": "yIbRbC_u7-Gh"
      },
      "execution_count": null,
      "outputs": []
    },
    {
      "cell_type": "code",
      "source": [
        "pipeline = Pipeline(stages=[assembler, labelIndexer, rf, labelConverter])"
      ],
      "metadata": {
        "id": "x3roTWXG7-e6"
      },
      "execution_count": null,
      "outputs": []
    },
    {
      "cell_type": "code",
      "source": [
        "crossval = CrossValidator(estimator=pipeline,\n",
        "                          estimatorParamMaps=paramGrid,\n",
        "                          evaluator=evaluator,\n",
        "                          numFolds=3) # use 10 folds in practice"
      ],
      "metadata": {
        "id": "lcIDmVhW7_iE"
      },
      "execution_count": null,
      "outputs": []
    },
    {
      "cell_type": "code",
      "source": [
        "# Run cross-validation, and choose the best set of parameters.\n",
        "cvModel = crossval.fit(train)"
      ],
      "metadata": {
        "id": "yBdZpaXr8AnY"
      },
      "execution_count": null,
      "outputs": []
    },
    {
      "cell_type": "code",
      "source": [
        "cvModel.bestModel"
      ],
      "metadata": {
        "id": "T-Daq-em8Bug"
      },
      "execution_count": null,
      "outputs": []
    },
    {
      "cell_type": "code",
      "source": [
        "params = [{p.name: v for p, v in m.items()} for m in cvModel.getEstimatorParamMaps()]\n",
        "params"
      ],
      "metadata": {
        "id": "GlJHDUHD8Duh"
      },
      "execution_count": null,
      "outputs": []
    },
    {
      "cell_type": "code",
      "source": [
        "cvModel.avgMetrics"
      ],
      "metadata": {
        "id": "pz28Xpsa8E34"
      },
      "execution_count": null,
      "outputs": []
    },
    {
      "cell_type": "code",
      "source": [
        "best_model = cvModel.bestModel"
      ],
      "metadata": {
        "id": "3W72yPIi8G5O"
      },
      "execution_count": null,
      "outputs": []
    },
    {
      "cell_type": "code",
      "source": [
        "predictions_test = best_model.transform(test)"
      ],
      "metadata": {
        "id": "OOKTQ6Kv8H89"
      },
      "execution_count": null,
      "outputs": []
    },
    {
      "cell_type": "code",
      "source": [
        "accuracy_test = evaluator.evaluate(predictions_test)"
      ],
      "metadata": {
        "id": "hmakSJgn8JCd"
      },
      "execution_count": null,
      "outputs": []
    },
    {
      "cell_type": "code",
      "source": [
        "print(f\"Accuracy test: {accuracy_test}\")"
      ],
      "metadata": {
        "id": "Wa-Y4o8-8KHN"
      },
      "execution_count": null,
      "outputs": []
    },
    {
      "cell_type": "code",
      "source": [
        "predictions_train = best_model.transform(train)\n",
        "accuracy_train = evaluator.evaluate(predictions_train)\n",
        "print(f\"Accuracy train: {accuracy_train}\")"
      ],
      "metadata": {
        "id": "Gbja2AGr8LNj"
      },
      "execution_count": null,
      "outputs": []
    },
    {
      "cell_type": "markdown",
      "source": [
        "##Zadanie 9\n",
        "Zaimplementuj hyperparameter tuning dla drzew decyzyjnych. Parametry:\n",
        "\n",
        "impurity, [\"entropy\"];\n",
        "maxDepth, [10, 30];\n",
        "maxBins, [30, 300, 100];"
      ],
      "metadata": {
        "id": "e4NnOr8o8O9a"
      }
    },
    {
      "cell_type": "code",
      "source": [
        "#kod"
      ],
      "metadata": {
        "id": "hsx4OR9v8dae"
      },
      "execution_count": null,
      "outputs": []
    },
    {
      "cell_type": "markdown",
      "source": [
        "##Clustering\n",
        "Based on: https://towardsdatascience.com/k-means-clustering-using-pyspark-on-big-data-6214beacdc8b\n",
        "K-Means explained: https://www.youtube.com/watch?v=4b5d3muPQmA"
      ],
      "metadata": {
        "id": "_lHVXThxIZUK"
      }
    },
    {
      "cell_type": "code",
      "source": [
        "!unzip archive.zip"
      ],
      "metadata": {
        "id": "aRP32wCCIbj1"
      },
      "execution_count": null,
      "outputs": []
    },
    {
      "cell_type": "code",
      "source": [
        "data_customer=spark.read.csv('CC GENERAL.csv', header=True, inferSchema=True)\n",
        "data_customer.printSchema()"
      ],
      "metadata": {
        "id": "LivEfEfDIdZQ"
      },
      "execution_count": null,
      "outputs": []
    },
    {
      "cell_type": "code",
      "source": [
        "data_customer=data_customer.na.drop()"
      ],
      "metadata": {
        "id": "FNZgxXjkIhBf"
      },
      "execution_count": null,
      "outputs": []
    },
    {
      "cell_type": "code",
      "source": [
        "from pyspark.ml.feature import VectorAssembler\n",
        "data_customer.columns\n",
        "assemble=VectorAssembler(inputCols=[\n",
        " 'BALANCE',\n",
        " 'BALANCE_FREQUENCY',\n",
        " 'PURCHASES',\n",
        " 'ONEOFF_PURCHASES',\n",
        " 'INSTALLMENTS_PURCHASES',\n",
        " 'CASH_ADVANCE',\n",
        " 'PURCHASES_FREQUENCY',\n",
        " 'ONEOFF_PURCHASES_FREQUENCY',\n",
        " 'PURCHASES_INSTALLMENTS_FREQUENCY',\n",
        " 'CASH_ADVANCE_FREQUENCY',\n",
        " 'CASH_ADVANCE_TRX',\n",
        " 'PURCHASES_TRX',\n",
        " 'CREDIT_LIMIT',\n",
        " 'PAYMENTS',\n",
        " 'MINIMUM_PAYMENTS',\n",
        " 'PRC_FULL_PAYMENT',\n",
        " 'TENURE'], outputCol='features')\n",
        "assembled_data=assemble.transform(data_customer)\n",
        "assembled_data.show(2)"
      ],
      "metadata": {
        "id": "qpHgtlclIifQ"
      },
      "execution_count": null,
      "outputs": []
    },
    {
      "cell_type": "code",
      "source": [
        "from pyspark.ml.feature import StandardScaler\n",
        "scale=StandardScaler(inputCol='features',outputCol='standardized')\n",
        "data_scale=scale.fit(assembled_data)\n",
        "data_scale_output=data_scale.transform(assembled_data)\n",
        "data_scale_output.show(2)"
      ],
      "metadata": {
        "id": "Foaqq4vxIjeE"
      },
      "execution_count": null,
      "outputs": []
    },
    {
      "cell_type": "code",
      "source": [
        "from pyspark.ml.clustering import KMeans\n",
        "from pyspark.ml.evaluation import ClusteringEvaluator\n",
        "silhouette_score=[]\n",
        "evaluator = ClusteringEvaluator(predictionCol='prediction', featuresCol='standardized', \\\n",
        "                                metricName='silhouette', distanceMeasure='squaredEuclidean')\n",
        "for i in range(2,10):\n",
        "\n",
        "    KMeans_algo=KMeans(featuresCol='standardized', k=i)\n",
        "\n",
        "    KMeans_fit=KMeans_algo.fit(data_scale_output)\n",
        "\n",
        "    output=KMeans_fit.transform(data_scale_output)\n",
        "\n",
        "\n",
        "\n",
        "    score=evaluator.evaluate(output)\n",
        "\n",
        "    silhouette_score.append(score)\n",
        "\n",
        "    print(\"Silhouette Score:\",score)"
      ],
      "metadata": {
        "id": "bq327Rd7Ikxv"
      },
      "execution_count": null,
      "outputs": []
    },
    {
      "cell_type": "code",
      "source": [
        "#Visualizing the silhouette scores in a plot\n",
        "import matplotlib.pyplot as plt\n",
        "fig, ax = plt.subplots(1,1, figsize =(8,6))\n",
        "ax.plot(range(2,10),silhouette_score)\n",
        "ax.set_xlabel('k')\n",
        "ax.set_ylabel('cost')"
      ],
      "metadata": {
        "id": "MGLGYK9nImYt"
      },
      "execution_count": null,
      "outputs": []
    },
    {
      "cell_type": "code",
      "source": [
        "KMeans_algo=KMeans(featuresCol='standardized', k=3)\n",
        "KMeans_fit=KMeans_algo.fit(data_scale_output)\n",
        "output=KMeans_fit.transform(data_scale_output)\n",
        "output.show(10)"
      ],
      "metadata": {
        "id": "83dHwa2oIo2p"
      },
      "execution_count": null,
      "outputs": []
    },
    {
      "cell_type": "code",
      "source": [
        "from pyspark.ml.feature import PCA\n",
        "import matplotlib.pyplot as plt\n",
        "\n",
        "pca = PCA(k=3, inputCol=\"features\", outputCol=\"pcaFeatures\")\n",
        "model = pca.fit(data_scale_output)\n",
        "\n",
        "result = model.transform(data_scale_output).select(\"pcaFeatures\")\n",
        "pandasDf = result.toPandas()\n",
        "dataX = []\n",
        "dataY = []\n",
        "\n",
        "for vec in pandasDf.values:\n",
        "  dataX.extend([vec[0][0]])\n",
        "  dataY.extend([vec[0][1]])\n",
        "plt.scatter(dataX, dataY)\n",
        "plt.show()"
      ],
      "metadata": {
        "id": "jgwk7ErEIqBO"
      },
      "execution_count": null,
      "outputs": []
    },
    {
      "cell_type": "markdown",
      "source": [
        "#Zajęcia 23.05.2022"
      ],
      "metadata": {
        "id": "_oaytOfo-i2H"
      }
    },
    {
      "cell_type": "markdown",
      "source": [
        "##Data Science How-To: Using Apache Spark for Sports Analytics\n",
        "based on: https://tanzu.vmware.com/content/blog/how-data-science-assists-sports"
      ],
      "metadata": {
        "id": "K1NusFNB-l9r"
      }
    },
    {
      "cell_type": "code",
      "source": [
        "!unzip data.zip"
      ],
      "metadata": {
        "id": "0jfzmN6o_fTm"
      },
      "execution_count": null,
      "outputs": []
    },
    {
      "cell_type": "code",
      "source": [
        "df = spark.read.option('header','true')\\\n",
        "          .option('inferSchema','true')\\\n",
        "          .csv('data/season_totals.csv')"
      ],
      "metadata": {
        "id": "ITDn-MlpA-iN"
      },
      "execution_count": null,
      "outputs": []
    },
    {
      "cell_type": "code",
      "source": [
        "df.limit(5).show()"
      ],
      "metadata": {
        "id": "273GFUgCBAkw"
      },
      "execution_count": null,
      "outputs": []
    },
    {
      "cell_type": "code",
      "source": [
        "import pyspark.sql.functions as f"
      ],
      "metadata": {
        "id": "scY7Kk_iBCCB"
      },
      "execution_count": null,
      "outputs": []
    },
    {
      "cell_type": "code",
      "source": [
        "df.orderBy(f.col('pts').desc()).limit(10).show()"
      ],
      "metadata": {
        "id": "0jkn22NwBDbG"
      },
      "execution_count": null,
      "outputs": []
    },
    {
      "cell_type": "code",
      "source": [
        "#Ile było prób rzutu za 3 punkty na 36 minut"
      ],
      "metadata": {
        "id": "CxU-v7JVBFDJ"
      },
      "execution_count": null,
      "outputs": []
    },
    {
      "cell_type": "code",
      "source": [
        "fga_py = (df\n",
        "          .groupBy('yr')\n",
        "          .agg(f.sum('mp'), #minutes played (wszystkie rozegrane minuty wszystkich graczy)\n",
        "               f.sum('fg3a')) #attempts\n",
        "          .select(f.col('yr'), (36*f.col('sum(fg3a)')/f.col('sum(mp)')).alias('fg3a_p36m'))\n",
        "          .orderBy('yr')\n",
        "               )\n",
        "fga_py.show(10)"
      ],
      "metadata": {
        "id": "3Kr5z-T8BGZa"
      },
      "execution_count": null,
      "outputs": []
    },
    {
      "cell_type": "code",
      "source": [
        "from matplotlib import pyplot as plt\n",
        "import seaborn as sns\n",
        "\n",
        "sns.set_style(\"white\")\n",
        "sns.set_color_codes()\n",
        "\n",
        "plt.figure(figsize=(20,10))\n",
        "plt.style.use('fivethirtyeight')\n",
        "\n",
        "_df = fga_py.toPandas()\n",
        "plt.plot(_df.yr,_df.fg3a_p36m, color = '#00a79c')\n",
        "plt.xlabel('Year')\n",
        "plt.title('Player average 3-point attempts (per 36 minutes)')\n",
        "plt.annotate('3 pointer introduced', xy=(1980, .5), xytext=(1981, 1.1), fontsize = 12,\n",
        "            arrowprops=dict(facecolor='grey', shrink=0.05, linewidth = 2))\n",
        "plt.annotate('NBA moved in 3-point line', xy=(1996, 2.4), xytext=(1991.5, 2.7), fontsize = 12,\n",
        "            arrowprops=dict(facecolor='grey', shrink=0.05, linewidth = 2))\n",
        "plt.annotate('NBA moved back\\n3-point line', xy=(1998, 2.), xytext=(1998.5, 2.4), fontsize = 12, arrowprops=dict(facecolor='grey', shrink=0.05, linewidth = 2))\n",
        "plt.show()"
      ],
      "metadata": {
        "id": "saTfWfgPBHiD"
      },
      "execution_count": null,
      "outputs": []
    },
    {
      "cell_type": "markdown",
      "source": [
        "###Zadanie 10\n",
        "Regresja liniowa w Sparku - ile będzie rzutów na koniec 2022? Użyj Regresji Logistycznej"
      ],
      "metadata": {
        "id": "_mgNGXqmBRx4"
      }
    },
    {
      "cell_type": "code",
      "source": [
        "#kod"
      ],
      "metadata": {
        "id": "0OrT8BuRBJLx"
      },
      "execution_count": null,
      "outputs": []
    },
    {
      "cell_type": "markdown",
      "source": [
        "###Heatmap 3-point shoots"
      ],
      "metadata": {
        "id": "TZaDgZ4FCTj0"
      }
    },
    {
      "cell_type": "code",
      "source": [
        "#statystyki skąd rzuty\n",
        "df = spark.read.csv(path='data/shot_charts_top_10/1000_plus_shot_charts_2011_2016.csv', header=True, inferSchema=True)"
      ],
      "metadata": {
        "id": "Wjc_VrCJCY-N"
      },
      "execution_count": null,
      "outputs": []
    },
    {
      "cell_type": "code",
      "source": [
        "df.cache()\n",
        "df.count()"
      ],
      "metadata": {
        "id": "BcvJjGE7Cf6I"
      },
      "execution_count": null,
      "outputs": []
    },
    {
      "cell_type": "code",
      "source": [
        "df.show()"
      ],
      "metadata": {
        "id": "omzaSYxnChNV"
      },
      "execution_count": null,
      "outputs": []
    },
    {
      "cell_type": "code",
      "source": [
        "from nba_utils import draw_3pt_piechart,plot_shot_chart\n",
        "import numpy as np\n",
        "player = 'Stephen Curry'\n",
        "yr = '2016'\n",
        "df_steph = df.filter(f'''name == \"{player}\"\n",
        "                        and yr == {yr}\n",
        "                        and y < 400''')\n",
        "#https://www.programiz.com/python-programming/list-comprehension\n",
        "\n",
        "x = np.array([v[0] for v in df_steph.select('x').collect()])\n",
        "y = np.array([v[0] for v in df_steph.select('y').collect()])\n",
        "p=plot_shot_chart(x, y, gridsize = 30,\n",
        "                      kind='hex')\n",
        "# p.savefig('results/steph_curry_2016_shotchart.png')\n",
        "plt.show()"
      ],
      "metadata": {
        "id": "90y-VPNXCicV"
      },
      "execution_count": null,
      "outputs": []
    },
    {
      "cell_type": "code",
      "source": [
        "import warnings\n",
        "warnings.simplefilter(\"ignore\")"
      ],
      "metadata": {
        "id": "6xIgFLkDCj9m"
      },
      "execution_count": null,
      "outputs": []
    },
    {
      "cell_type": "code",
      "source": [
        "df.show(5)"
      ],
      "metadata": {
        "id": "xCVClxrWIXEj"
      },
      "execution_count": null,
      "outputs": []
    },
    {
      "cell_type": "code",
      "source": [
        "def is_corner_3(xy):\n",
        "    '''Want to identify corner 3 point attempts'''\n",
        "    x,y = xy\n",
        "    return int((abs(x) >= 220) and (y < 92.5))\n",
        "\n",
        "def is_normal_3(xycorner3):\n",
        "    '''Want to identify normal (not corner 3) point attempts'''\n",
        "    x,y,corner3 = xycorner3\n",
        "    radius = 475/2.\n",
        "    y_3pt = np.sqrt(np.square(radius) - np.square(x))\n",
        "    return int(y > max(92.5,y_3pt) and not corner3)"
      ],
      "metadata": {
        "id": "IMMmgn28IYVp"
      },
      "execution_count": null,
      "outputs": []
    },
    {
      "cell_type": "code",
      "source": [
        "from pyspark.sql.functions import array,udf\n",
        "from pyspark.sql.types import IntegerType\n",
        "\n",
        "corner_3_udf = udf(is_corner_3, IntegerType())\n",
        "normal_3_udf = udf(is_normal_3, IntegerType())\n",
        "\n",
        "df2 = df.withColumn('corner_3', corner_3_udf(array([df.x,df.y])))\n",
        "df3 = df2.withColumn('normal_3', normal_3_udf(array([df2.x,df2.y,df2.corner_3])))\n",
        "df4 = df3.withColumn('is_a_3', df3.corner_3 + df3.normal_3)\n",
        "\n",
        "df = df4\n",
        "df.cache()"
      ],
      "metadata": {
        "id": "Ud9NSgiEIadX"
      },
      "execution_count": null,
      "outputs": []
    },
    {
      "cell_type": "code",
      "source": [
        "from pyspark.sql.functions import mean\n",
        "from nba_utils import draw_3pt_piechart,plot_shot_chart\n",
        "\n",
        "# make shot charts for all years\n",
        "midrange_thresh = 8\n",
        "in_half_court = 'y <= 400 and abs(x) <= 250'\n",
        "addl_filter = f'shot_distance > {midrange_thresh}'\n",
        "for yr in range(2011,2016+1):\n",
        "    df_yr = df.filter(f'''{in_half_court}\n",
        "                         and yr == {yr}\n",
        "                         and {addl_filter}''')\n",
        "    x = np.array([v[0] for v in df_yr.select('x').collect()])\n",
        "    y = np.array([v[0] for v in df_yr.select('y').collect()])\n",
        "    p = plot_shot_chart(x,y, gridsize = 30, kind = 'hex', label = yr)\n",
        "    p.fig.suptitle('Evolution of the 3 point shot', x = .19, y = 0.86, size = 20, fontweight= 'bold')\n",
        "\n",
        "    per_3 = df_yr.select(mean(df_yr.is_a_3)).take(1)[0][0]\n",
        "    per_midrange = 1 - per_3\n",
        "    draw_3pt_piechart(per_3, per_midrange)\n",
        "    plt.show()\n",
        "#     p.savefig('results/all_years/{}.png'.format(yr))\n",
        "#     plt.close()"
      ],
      "metadata": {
        "id": "rnXjacT8ClcD"
      },
      "execution_count": null,
      "outputs": []
    },
    {
      "cell_type": "markdown",
      "source": [
        "###Shots efficiency"
      ],
      "metadata": {
        "id": "6cRQoCCZCwLf"
      }
    },
    {
      "cell_type": "code",
      "source": [
        "from pyspark.sql.functions import count, when\n",
        "\n",
        "shot_acc = df.groupBy('shot_distance','corner_3','normal_3','is_a_3')\\\n",
        "             .agg(count('*').alias('num_attempts'),mean(df.shot_made_flag).alias('shot_accuracy'))\\\n",
        "             .withColumn('points_per_shot',when(f.col('is_a_3') == 1, f.col('shot_accuracy')*3)\n",
        "                                           .otherwise(f.col('shot_accuracy')*2)\n",
        "                        )\\\n",
        "             .filter('num_attempts > 5')\\\n",
        "             .orderBy('shot_distance')\\\n",
        "             .toPandas()"
      ],
      "metadata": {
        "id": "62Wyn_COCyaH"
      },
      "execution_count": null,
      "outputs": []
    },
    {
      "cell_type": "code",
      "source": [
        "df.show(3)"
      ],
      "metadata": {
        "id": "dA6kQ-3YC-zY"
      },
      "execution_count": null,
      "outputs": []
    },
    {
      "cell_type": "code",
      "source": [
        "shot_acc"
      ],
      "metadata": {
        "id": "nyjaD1DzDASo"
      },
      "execution_count": null,
      "outputs": []
    },
    {
      "cell_type": "code",
      "source": [
        "plt.style.use('fivethirtyeight')\n",
        "plt.figure(figsize = (10,6))\n",
        "\n",
        "def plot_acc_vs_dist(df,kwargs = {}):\n",
        "    plt.plot(df.shot_distance, df.points_per_shot, **kwargs)\n",
        "\n",
        "plot_acc_vs_dist(shot_acc.query('is_a_3 == False'), {'color' : '#008fd5'})\n",
        "plot_acc_vs_dist(shot_acc.query('is_a_3 == True'), {'color' : '#008fd5'})\n",
        "plt.title('Shot value vs. shot distance, 2011-2016 seasons\\n Players with 1000+ attempts in a season')\n",
        "plt.xlim(0,30)\n",
        "plt.xlabel('Shot Distance (ft)')\n",
        "plt.ylabel('Points per shot')\n",
        "plt.annotate('high efficiency 2s', xy=(2., 1.15), xytext=(4.5, 1.28),\n",
        "            arrowprops=dict(facecolor='grey', shrink=0.05))\n",
        "plt.annotate('high efficiency 3s', xy=(22, 1.15), xytext=(14.5, 1.15),\n",
        "            arrowprops=dict(facecolor='grey', shrink=0.05))\n",
        "plt.text(22, 1.25, 'corner 3s', fontsize = 12)\n",
        "#plt.savefig('results/pps.png')"
      ],
      "metadata": {
        "id": "0NKJj3sVDBvX"
      },
      "execution_count": null,
      "outputs": []
    }
  ],
  "metadata": {
    "colab": {
      "provenance": [],
      "include_colab_link": true
    },
    "kernelspec": {
      "display_name": "Python 3",
      "name": "python3"
    }
  },
  "nbformat": 4,
  "nbformat_minor": 0
}