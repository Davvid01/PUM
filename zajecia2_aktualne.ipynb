{
  "nbformat": 4,
  "nbformat_minor": 0,
  "metadata": {
    "colab": {
      "provenance": [],
      "authorship_tag": "ABX9TyP76rMyOXw3cBJLzaJRtFvw",
      "include_colab_link": true
    },
    "kernelspec": {
      "name": "python3",
      "display_name": "Python 3"
    },
    "language_info": {
      "name": "python"
    }
  },
  "cells": [
    {
      "cell_type": "markdown",
      "metadata": {
        "id": "view-in-github",
        "colab_type": "text"
      },
      "source": [
        "<a href=\"https://colab.research.google.com/github/Davvid01/PUM/blob/main/zajecia2_aktualne.ipynb\" target=\"_parent\"><img src=\"https://colab.research.google.com/assets/colab-badge.svg\" alt=\"Open In Colab\"/></a>"
      ]
    },
    {
      "cell_type": "code",
      "execution_count": null,
      "metadata": {
        "id": "dbZ3Xev-hjm_",
        "colab": {
          "base_uri": "https://localhost:8080/"
        },
        "outputId": "1a57d610-a073-4117-bde4-e9e59fb75bc8"
      },
      "outputs": [
        {
          "output_type": "stream",
          "name": "stdout",
          "text": [
            "Feature:\n",
            " Age \n",
            " ['23' '-500' '28_' '28' '34' '54' '55' '21' '31' '33' '34_' '7580' '30'\n",
            " '30_' '24' '24_' '44' '45' '40' '41' '32' '33_' '35' '35_' '36' '39' '37'\n",
            " '181' '20' '46' '26' '42' '19' '31_' '48' '995' '40_' '37_' '38' '54_'\n",
            " '5079' '43' '21_' '22' '6409' '16' '7080' '18' '849' '3885' '20_' '15'\n",
            " '27' '43_' '38_' '25' '3052' '14' '5342' '17' '18_' '4431' '2657' '2111_'\n",
            " '46_' '47' '1032' '16_' '19_' '47_' '456' '5717' '53_' '53' '56' '25_'\n",
            " '27_' '55_' '3169' '1191' '29' '42_' '7140' '48_' '49' '49_' '8233'\n",
            " '6955' '2534' '3115' '7657' '51' '50' '5112' '50_' '32_' '6452' '2744'\n",
            " '22_' '17_' '1439' '29_' '5795' '4872' '1772' '15_' '1383' '5657' '52'\n",
            " '1934' '51_' '8352' '3734' '26_' '2056' '39_' '7508' '2339' '14_' '8406'\n",
            " '1424' '36_' '6953' '5626' '4471' '548' '44_' '769' '5490' '525' '4202'\n",
            " '3665' '7670_' '4670' '3616' '6922' '6619' '1808' '7992' '45_' '223'\n",
            " '1232' '4659' '6895' '395' '7099' '6048' '3936' '3512' '123' '5639' '471'\n",
            " '7359' '23_' '4049' '5053' '2109' '7183' '5604' '1206' '6835' '4067'\n",
            " '41_' '1812' '1170' '3625' '6354' '3724' '480' '5610' '4710' '4351' '52_'\n",
            " '5784' '3937' '3542' '2239' '5645' '7425' '7851' '2027' '6306' '835'\n",
            " '3513' '6846' '6868' '7805' '7274' '831' '8394' '2751' '733_' '783'\n",
            " '2455' '5612' '2402' '4119' '4645' '8105' '1400' '7431' '3666' '2350'\n",
            " '491' '1116' '692' '5429' '4745' '4017' '3279' '651' '5611' '5769_'\n",
            " '6586' '7699' '919' '6765' '5376' '2546' '112' '3909' '5054' '8655'\n",
            " '4383_' '2824' '56_' '7865' '2823' '6365' '5688' '6178' '886' '3353'\n",
            " '8562' '7750' '5186' '8080' '3553' '5537' '3967' '6520' '2650_' '1335'\n",
            " '2054' '7068' '6100' '2636' '1753' '6389' '2419' '2033' '2961' '3307_'\n",
            " '5504' '4060' '5237' '2297' '5583' '4958' '6395' '3319' '7705' '4820'\n",
            " '2456' '5194' '5154' '4155' '7336' '7195' '8005' '5165' '3861' '2584'\n",
            " '2563' '5592' '3771' '1188' '5017' '8034' '5256' '8173' '6962_' '3578'\n",
            " '4572' '5589_' '328' '1678' '1512' '6556_' '5430' '8442' '4517' '7525'\n",
            " '1203' '4260' '7980' '7153' '2400' '6331' '3715' '3285' '8043' '8250'\n",
            " '8628' '8608' '7016' '989' '359' '8155' '2090' '4126' '3791' '5782'\n",
            " '6292' '8662' '1681' '1338' '8000' '7935' '5608' '1006' '1451' '622'\n",
            " '4857' '2369' '8216' '7330' '7289' '3601' '4127' '236' '6707' '493'\n",
            " '4682' '287' '375' '5195' '1969' '5788' '6413' '2388' '5152' '3986'\n",
            " '1715' '8200' '4336' '8299' '1308' '3888' '1051' '134' '5897' '6350'\n",
            " '2379' '3197' '3341' '8674' '7123' '556' '1083' '1447_' '7032' '5579'\n",
            " '1692' '4204' '7968' '1148' '2980' '4626' '3492' '1323' '2799' '6426'\n",
            " '186' '5498' '7060' '1752' '1816' '609' '2514' '6276' '4365' '8421'\n",
            " '8153_' '4609' '1625' '2614' '4603' '7026' '4010' '624' '1143' '5870'\n",
            " '3607' '8505' '528' '1578' '4404' '4414' '6704' '2509' '7456' '7353'\n",
            " '3075' '2081' '925' '4021' '3602' '5930' '306' '7197' '1066' '4527'\n",
            " '6510' '1062' '5221' '7166' '4391' '6651' '1227' '7112' '3214' '8472'\n",
            " '836' '7553' '7504' '1357' '3284' '2721' '6385' '2997' '2451' '3480'\n",
            " '3357' '711' '8632' '1388' '5696' '5524' '356' '6608' '5705' '8567'\n",
            " '3132' '1433' '1695' '8639' '8582' '2275' '4959' '3834_' '623' '7295'\n",
            " '3345' '3493' '182' '126' '6744_' '4390' '7715' '6130' '6471_' '7723_'\n",
            " '3768' '4178' '4630' '1420' '6417' '2560' '3985' '3750' '4444' '234'\n",
            " '3795' '637' '6649' '4380' '5714' '7693' '2174' '2366' '5781' '5677'\n",
            " '3038' '4897' '7937' '365' '7640_' '6408_' '1112' '3546' '8424' '124'\n",
            " '3502_' '5747' '8082' '7564' '1436' '3519' '6175' '2091' '8249' '7316_'\n",
            " '2578' '4687' '4163' '5796' '5123' '6943' '8338' '6345' '1364' '6777'\n",
            " '4782' '5981' '963' '5907' '6978' '673' '6322' '6384' '3036' '1270'\n",
            " '8561' '634' '2352' '6800' '118' '1010' '2395'] \n",
            " -------------------------------------------------------------------------------- \n",
            "\n",
            "Feature:\n",
            " Annual_Income \n",
            " ['19114.12' '34847.84' '34847.84_' ... '17379.785' '17379.785_' '20967.39'] \n",
            " -------------------------------------------------------------------------------- \n",
            "\n",
            "Feature:\n",
            " Num_of_Loan \n",
            " ['4' '1' '3' '967' '-100' '0' '0_' '2' '3_' '2_' '7' '5' '5_' '6' '8' '8_'\n",
            " '9' '9_' '4_' '7_' '1_' '1464' '6_' '622' '352' '472' '1017' '945' '146'\n",
            " '563' '341' '444' '720' '1485' '49' '737' '1106' '466' '728' '313' '843'\n",
            " '597_' '617' '119' '663' '640' '92_' '1019' '501' '1302' '39' '716' '848'\n",
            " '931' '1214' '186' '424' '1001' '1110' '1152' '457' '1433' '1187' '52'\n",
            " '1480' '1047' '1035' '1347_' '33' '193' '699' '329' '1451' '484' '132'\n",
            " '649' '995' '545' '684' '1135' '1094' '1204' '654' '58' '348' '614'\n",
            " '1363' '323' '1406' '1348' '430' '153' '1461' '905' '1312' '1424' '1154'\n",
            " '95' '1353' '1228' '819' '1006' '795' '359' '1209' '590' '696' '1185_'\n",
            " '1465' '911' '1181' '70' '816' '1369' '143' '1416' '455'] \n",
            " -------------------------------------------------------------------------------- \n",
            "\n",
            "Feature:\n",
            " Num_of_Delayed_Payment \n",
            " ['7' nan '4' '8_' '6' '1' '-1' '3_' '0' '8' '5' '3' '9' '12' '15' '17'\n",
            " '10' '2' '2_' '11' '14' '20' '22' '13' '13_' '14_' '16' '12_' '18' '19'\n",
            " '23' '24' '21' '3318' '3083' '22_' '1338' '4_' '26' '11_' '3104' '21_'\n",
            " '25' '10_' '183_' '9_' '1106' '834' '19_' '24_' '17_' '23_' '2672' '20_'\n",
            " '2008' '-3' '538' '6_' '1_' '16_' '27' '-2' '3478' '2420' '15_' '707'\n",
            " '708' '26_' '18_' '3815' '28' '5_' '1867' '2250' '1463' '25_' '7_' '4126'\n",
            " '2882' '1941' '2655' '2628' '132' '3069' '306' '0_' '3539' '3684' '1823'\n",
            " '4128' '1946' '827' '2297' '2566' '904' '182' '929' '3568' '2503' '1552'\n",
            " '2812' '1697' '3764' '851' '3905' '923' '88' '1668' '3253' '808' '2689'\n",
            " '3858' '642' '3457' '1402' '1732' '3154' '847' '3037' '2204' '3103'\n",
            " '1063' '2056' '1282' '1841' '2569_' '211' '793' '3484' '411' '3491'\n",
            " '2072' '3050' '1049' '2162' '3402' '2753' '27_' '1718' '1014' '3260'\n",
            " '3855' '84' '2311' '3251' '1832' '4069' '3010' '733' '4241' '166' '2461'\n",
            " '1749' '3200' '663_' '2185' '4161' '3009' '359' '2015' '1523' '594'\n",
            " '1079' '1199' '186' '1015' '1989' '281' '559' '2165' '1509' '3545' '779'\n",
            " '192' '4311' '-2_' '2323' '1471' '1538' '3529' '439' '3456' '3040' '2697'\n",
            " '3179' '1332' '3175' '3112' '829' '4022' '3870' '4023' '531' '1511'\n",
            " '3092' '3191' '2400' '3621' '3536' '544' '1864' '28_' '142' '2300' '264'\n",
            " '72' '497' '398' '2222' '3960' '1473' '3043' '4216' '2903'] \n",
            " -------------------------------------------------------------------------------- \n",
            "\n",
            "Feature:\n",
            " Changed_Credit_Limit \n",
            " ['11.27' '_' '6.27' ... '23.67' '-0.3899999999999997'\n",
            " '-1.3899999999999997'] \n",
            " -------------------------------------------------------------------------------- \n",
            "\n",
            "Feature:\n",
            " Outstanding_Debt \n",
            " ['809.98' '605.03' '1303.01' ... '4831.48' '993.66' '4094.0'] \n",
            " -------------------------------------------------------------------------------- \n",
            "\n",
            "Feature:\n",
            " Amount_invested_monthly \n",
            " ['80.41529543900253' '118.28022162236736' '81.699521264648' ...\n",
            " '26.043795006084828' '182.10660460740283' '55.55475710191636'] \n",
            " -------------------------------------------------------------------------------- \n",
            "\n",
            "Feature:\n",
            " Monthly_Balance \n",
            " ['312.49408867943663' '284.62916249607184' '331.2098628537912' ...\n",
            " '317.67419532677604' '191.61138572545798' '298.1632332309445'] \n",
            " -------------------------------------------------------------------------------- \n",
            "\n"
          ]
        }
      ],
      "source": [
        "import pandas as pd\n",
        "import numpy as np\n",
        "from termcolor import colored  # Do wyświetlania kolorowego tekstu w konsoli\n",
        "\n",
        "# Wczytaj dane\n",
        "df = pd.read_csv(\"train.csv\")\n",
        "\n",
        "\n",
        "# Lista cech do przekształcenia na liczby\n",
        "FeaturesToConvert = ['Age', 'Annual_Income', 'Num_of_Loan', 'Num_of_Delayed_Payment',\n",
        "                     'Changed_Credit_Limit', 'Outstanding_Debt', 'Amount_invested_monthly',\n",
        "                     'Monthly_Balance']\n",
        "\n",
        "# Sprawdź unikalne wartości cech\n",
        "for feature in FeaturesToConvert:\n",
        "    uniques = df[feature].unique()\n",
        "    print('Feature:\\n', colored(feature, attrs=['bold']), '\\n', uniques, '\\n', '--'*40, '\\n')\n",
        "\n",
        "# Usuń zbędne znaki '-’ , '_'\n",
        "for feature in FeaturesToConvert:\n",
        "    df[feature] = df[feature].str.strip('-_’')\n",
        "\n",
        "# Zastąp puste kolumny wartościami NaN\n",
        "for feature in FeaturesToConvert:\n",
        "    df[feature] = df[feature].replace({'': np.nan})\n",
        "\n",
        "# Zmień typ zmiennych ilościowych na float64\n",
        "for feature in FeaturesToConvert:\n",
        "    df[feature] = df[feature].astype('float64')\n",
        "\n",
        "for feature in FeaturesToConvert:\n",
        "    mean_value = df[feature].mean()  # Oblicz średnią dla każdej kolumny\n",
        "    df[feature].fillna(mean_value, inplace=True)  # Uzupełnij braki danych średnią\n"
      ]
    },
    {
      "cell_type": "code",
      "source": [
        "print(df.info())"
      ],
      "metadata": {
        "colab": {
          "base_uri": "https://localhost:8080/"
        },
        "id": "QLpJjivF02Fr",
        "outputId": "7e8d3f7b-9c54-40b9-d886-edb3bde91769"
      },
      "execution_count": null,
      "outputs": [
        {
          "output_type": "stream",
          "name": "stdout",
          "text": [
            "<class 'pandas.core.frame.DataFrame'>\n",
            "RangeIndex: 23557 entries, 0 to 23556\n",
            "Data columns (total 28 columns):\n",
            " #   Column                    Non-Null Count  Dtype  \n",
            "---  ------                    --------------  -----  \n",
            " 0   ID                        23557 non-null  object \n",
            " 1   Customer_ID               23557 non-null  object \n",
            " 2   Month                     23557 non-null  object \n",
            " 3   Name                      21208 non-null  object \n",
            " 4   Age                       23557 non-null  float64\n",
            " 5   SSN                       23557 non-null  object \n",
            " 6   Occupation                23557 non-null  object \n",
            " 7   Annual_Income             23557 non-null  float64\n",
            " 8   Monthly_Inhand_Salary     20024 non-null  float64\n",
            " 9   Num_Bank_Accounts         23557 non-null  int64  \n",
            " 10  Num_Credit_Card           23557 non-null  int64  \n",
            " 11  Interest_Rate             23557 non-null  int64  \n",
            " 12  Num_of_Loan               23557 non-null  float64\n",
            " 13  Type_of_Loan              20949 non-null  object \n",
            " 14  Delay_from_due_date       23557 non-null  int64  \n",
            " 15  Num_of_Delayed_Payment    23557 non-null  float64\n",
            " 16  Changed_Credit_Limit      23557 non-null  float64\n",
            " 17  Num_Credit_Inquiries      23091 non-null  float64\n",
            " 18  Credit_Mix                23557 non-null  object \n",
            " 19  Outstanding_Debt          23557 non-null  float64\n",
            " 20  Credit_Utilization_Ratio  23557 non-null  float64\n",
            " 21  Credit_History_Age        21356 non-null  object \n",
            " 22  Payment_of_Min_Amount     23556 non-null  object \n",
            " 23  Total_EMI_per_month       23556 non-null  float64\n",
            " 24  Amount_invested_monthly   23557 non-null  float64\n",
            " 25  Payment_Behaviour         23556 non-null  object \n",
            " 26  Monthly_Balance           23557 non-null  float64\n",
            " 27  Credit_Score              23556 non-null  object \n",
            "dtypes: float64(12), int64(4), object(12)\n",
            "memory usage: 5.0+ MB\n",
            "None\n"
          ]
        }
      ]
    },
    {
      "cell_type": "code",
      "source": [
        "print(\"Wymiary ramki danych:\", df.shape)"
      ],
      "metadata": {
        "colab": {
          "base_uri": "https://localhost:8080/"
        },
        "id": "ZkX8BGvl1BCh",
        "outputId": "193db5cc-ff76-4b7d-a835-82dae098e324"
      },
      "execution_count": null,
      "outputs": [
        {
          "output_type": "stream",
          "name": "stdout",
          "text": [
            "Wymiary ramki danych: (23557, 28)\n"
          ]
        }
      ]
    },
    {
      "cell_type": "code",
      "source": [
        "print(df.head())"
      ],
      "metadata": {
        "colab": {
          "base_uri": "https://localhost:8080/"
        },
        "id": "sgwVaOpay78W",
        "outputId": "933db3ea-b069-4c40-b953-22de906d8c77"
      },
      "execution_count": null,
      "outputs": [
        {
          "output_type": "stream",
          "name": "stdout",
          "text": [
            "       ID Customer_ID     Month           Name    Age          SSN Occupation  \\\n",
            "0  0x1602   CUS_0xd40   January  Aaron Maashoh   23.0  821-00-0265  Scientist   \n",
            "1  0x1603   CUS_0xd40  February  Aaron Maashoh   23.0  821-00-0265  Scientist   \n",
            "2  0x1604   CUS_0xd40     March  Aaron Maashoh  500.0  821-00-0265  Scientist   \n",
            "3  0x1605   CUS_0xd40     April  Aaron Maashoh   23.0  821-00-0265  Scientist   \n",
            "4  0x1606   CUS_0xd40       May  Aaron Maashoh   23.0  821-00-0265  Scientist   \n",
            "\n",
            "   Annual_Income  Monthly_Inhand_Salary  Num_Bank_Accounts  ...  Credit_Mix  \\\n",
            "0       19114.12            1824.843333                  3  ...           _   \n",
            "1       19114.12                    NaN                  3  ...        Good   \n",
            "2       19114.12                    NaN                  3  ...        Good   \n",
            "3       19114.12                    NaN                  3  ...        Good   \n",
            "4       19114.12            1824.843333                  3  ...        Good   \n",
            "\n",
            "   Outstanding_Debt  Credit_Utilization_Ratio     Credit_History_Age  \\\n",
            "0            809.98                 26.822620  22 Years and 1 Months   \n",
            "1            809.98                 31.944960                    NaN   \n",
            "2            809.98                 28.609352  22 Years and 3 Months   \n",
            "3            809.98                 31.377862  22 Years and 4 Months   \n",
            "4            809.98                 24.797347  22 Years and 5 Months   \n",
            "\n",
            "   Payment_of_Min_Amount  Total_EMI_per_month  Amount_invested_monthly  \\\n",
            "0                     No            49.574949                80.415295   \n",
            "1                     No            49.574949               118.280222   \n",
            "2                     No            49.574949                81.699521   \n",
            "3                     No            49.574949               199.458074   \n",
            "4                     No            49.574949                41.420153   \n",
            "\n",
            "                  Payment_Behaviour Monthly_Balance  Credit_Score  \n",
            "0   High_spent_Small_value_payments      312.494089          Good  \n",
            "1    Low_spent_Large_value_payments      284.629162          Good  \n",
            "2   Low_spent_Medium_value_payments      331.209863          Good  \n",
            "3    Low_spent_Small_value_payments      223.451310          Good  \n",
            "4  High_spent_Medium_value_payments      341.489231          Good  \n",
            "\n",
            "[5 rows x 28 columns]\n"
          ]
        }
      ]
    },
    {
      "cell_type": "code",
      "source": [
        "for feature in FeaturesToConvert:\n",
        "    mean_value = df[feature].mean()  # Oblicz średnią dla każdej kolumny\n",
        "    df[feature].fillna(mean_value, inplace=True)  # Uzupełnij braki danych średnią"
      ],
      "metadata": {
        "id": "d2ho5RuWxyXd"
      },
      "execution_count": null,
      "outputs": []
    }
  ]
}